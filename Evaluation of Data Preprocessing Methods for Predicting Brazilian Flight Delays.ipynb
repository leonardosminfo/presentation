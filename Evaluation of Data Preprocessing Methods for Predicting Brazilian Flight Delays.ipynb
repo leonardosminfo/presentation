{
 "cells": [
  {
   "cell_type": "markdown",
   "metadata": {},
   "source": [
    "\n",
    "<h2>Evaluation of Data Preprocessing Methods for Predicting Brazilian Flight Delays</h2>\n"
   ]
  },
  {
   "cell_type": "code",
   "execution_count": null,
   "metadata": {
    "collapsed": true
   },
   "outputs": [],
   "source": []
  },
  {
   "cell_type": "markdown",
   "metadata": {},
   "source": [
    "<h3> Loading Libraries</h3>"
   ]
  },
  {
   "cell_type": "markdown",
   "metadata": {
    "collapsed": true
   },
   "source": [
    "<h4>Loading preprocessing functions.\n",
    "\n",
    "Installation of R packages.</h4>\n",
    "\n"
   ]
  },
  {
   "cell_type": "code",
   "execution_count": 3,
   "metadata": {},
   "outputs": [
    {
     "name": "stderr",
     "output_type": "stream",
     "text": [
      "Loading required package: glmnet\n",
      "Warning message:\n",
      "\"package 'glmnet' was built under R version 3.4.4\"Loading required package: Matrix\n",
      "Loading required package: foreach\n",
      "Loaded glmnet 2.0-16\n",
      "\n",
      "Loading required package: leaps\n",
      "Warning message:\n",
      "\"package 'leaps' was built under R version 3.4.4\"Loading required package: FSelector\n",
      "Warning message:\n",
      "\"package 'FSelector' was built under R version 3.4.4\"Error: package or namespace load failed for 'FSelector':\n",
      " .onLoad failed in loadNamespace() for 'rJava', details:\n",
      "  call: fun(libname, pkgname)\n",
      "  error: No CurrentVersion entry in Software/JavaSoft registry! Try re-installing Java and make sure R and Java have matching architectures.\n",
      "Installing package into 'C:/Users/leonardosm/Documents/R/win-library/3.4'\n",
      "(as 'lib' is unspecified)\n"
     ]
    },
    {
     "name": "stdout",
     "output_type": "stream",
     "text": [
      "package 'FSelector' successfully unpacked and MD5 sums checked\n",
      "\n",
      "The downloaded binary packages are in\n",
      "\tC:\\Users\\leonardosm\\AppData\\Local\\Temp\\RtmpM3Lfw3\\downloaded_packages\n"
     ]
    },
    {
     "name": "stderr",
     "output_type": "stream",
     "text": [
      "Loading required package: x\n",
      "Warning message in library(package, lib.loc = lib.loc, character.only = TRUE, logical.return = TRUE, :\n",
      "\"there is no package called 'x'\"Loading required package: doBy\n",
      "Warning message:\n",
      "\"package 'doBy' was built under R version 3.4.4\"Loading required package: caret\n",
      "Warning message:\n",
      "\"package 'caret' was built under R version 3.4.4\"Loading required package: lattice\n",
      "Loading required package: ggplot2\n",
      "Warning message:\n",
      "\"package 'ggplot2' was built under R version 3.4.3\"Loading required package: MASS\n",
      "Loading required package: DMwR\n",
      "Loading required package: grid\n",
      "Loading required package: dplyr\n",
      "Warning message:\n",
      "\"package 'dplyr' was built under R version 3.4.3\"\n",
      "Attaching package: 'dplyr'\n",
      "\n",
      "The following object is masked from 'package:MASS':\n",
      "\n",
      "    select\n",
      "\n",
      "The following objects are masked from 'package:stats':\n",
      "\n",
      "    filter, lag\n",
      "\n",
      "The following objects are masked from 'package:base':\n",
      "\n",
      "    intersect, setdiff, setequal, union\n",
      "\n",
      "Loading required package: ROCR\n",
      "Warning message:\n",
      "\"package 'ROCR' was built under R version 3.4.3\"Loading required package: gplots\n",
      "\n",
      "Attaching package: 'gplots'\n",
      "\n",
      "The following object is masked from 'package:stats':\n",
      "\n",
      "    lowess\n",
      "\n",
      "Loading required package: MLmetrics\n",
      "Warning message:\n",
      "\"package 'MLmetrics' was built under R version 3.4.3\"\n",
      "Attaching package: 'MLmetrics'\n",
      "\n",
      "The following objects are masked from 'package:caret':\n",
      "\n",
      "    MAE, RMSE\n",
      "\n",
      "The following object is masked from 'package:base':\n",
      "\n",
      "    Recall\n",
      "\n",
      "Loading required package: nnet\n",
      "Loading required package: kernlab\n",
      "\n",
      "Attaching package: 'kernlab'\n",
      "\n",
      "The following object is masked from 'package:ggplot2':\n",
      "\n",
      "    alpha\n",
      "\n",
      "Loading required package: rattle\n",
      "Warning message:\n",
      "\"package 'rattle' was built under R version 3.4.2\"Rattle: A free graphical interface for data science with R.\n",
      "Version 5.1.0 Copyright (c) 2006-2017 Togaware Pty Ltd.\n",
      "Type 'rattle()' to shake, rattle, and roll your data.\n",
      "\n",
      "Attaching package: 'rattle'\n",
      "\n",
      "The following object is masked _by_ '.GlobalEnv':\n",
      "\n",
      "    binning\n",
      "\n",
      "Loading required package: RSNNS\n",
      "Warning message:\n",
      "\"package 'RSNNS' was built under R version 3.4.3\"Loading required package: Rcpp\n",
      "Warning message:\n",
      "\"package 'Rcpp' was built under R version 3.4.3\"\n",
      "Attaching package: 'RSNNS'\n",
      "\n",
      "The following objects are masked from 'package:caret':\n",
      "\n",
      "    confusionMatrix, train\n",
      "\n",
      "Loading required package: e1071\n",
      "Loading required package: class\n",
      "Loading required package: randomForest\n",
      "randomForest 4.6-12\n",
      "Type rfNews() to see new features/changes/bug fixes.\n",
      "\n",
      "Attaching package: 'randomForest'\n",
      "\n",
      "The following object is masked from 'package:rattle':\n",
      "\n",
      "    importance\n",
      "\n",
      "The following object is masked from 'package:dplyr':\n",
      "\n",
      "    combine\n",
      "\n",
      "The following object is masked from 'package:ggplot2':\n",
      "\n",
      "    margin\n",
      "\n",
      "Loading required package: parallelMap\n",
      "Warning message:\n",
      "\"package 'parallelMap' was built under R version 3.4.3\"Loading required package: parallel\n",
      "Loading required package: tidyr\n",
      "Warning message:\n",
      "\"package 'tidyr' was built under R version 3.4.3\"\n",
      "Attaching package: 'tidyr'\n",
      "\n",
      "The following object is masked from 'package:Matrix':\n",
      "\n",
      "    expand\n",
      "\n",
      "Loading required package: stringr\n",
      "Loading required package: corrplot\n",
      "Loading required package: VIM\n",
      "Warning message:\n",
      "\"package 'VIM' was built under R version 3.4.4\"Loading required package: colorspace\n",
      "Loading required package: data.table\n",
      "\n",
      "Attaching package: 'data.table'\n",
      "\n",
      "The following objects are masked from 'package:dplyr':\n",
      "\n",
      "    between, first, last\n",
      "\n",
      "VIM is ready to use. \n",
      " Since version 4.0.0 the GUI is in its own package VIMGUI.\n",
      "\n",
      "          Please use the package to use the new (and old) GUI.\n",
      "\n",
      "Suggestions and bug-reports can be submitted at: https://github.com/alexkowa/VIM/issues\n",
      "\n",
      "Attaching package: 'VIM'\n",
      "\n",
      "The following object is masked from 'package:DMwR':\n",
      "\n",
      "    kNN\n",
      "\n",
      "The following object is masked from 'package:datasets':\n",
      "\n",
      "    sleep\n",
      "\n",
      "Loading required package: lubridate\n",
      "\n",
      "Attaching package: 'lubridate'\n",
      "\n",
      "The following objects are masked from 'package:data.table':\n",
      "\n",
      "    hour, isoweek, mday, minute, month, quarter, second, wday, week,\n",
      "    yday, year\n",
      "\n",
      "The following object is masked from 'package:base':\n",
      "\n",
      "    date\n",
      "\n"
     ]
    }
   ],
   "source": [
    "options(java.parameters = \"-Xmx31g\")\n",
    "\n",
    "\n",
    "source(\"https://raw.githubusercontent.com/leonardosminfo/presentation/master/code/Preprocessing.R\")\n"
   ]
  },
  {
   "cell_type": "code",
   "execution_count": null,
   "metadata": {
    "collapsed": true
   },
   "outputs": [],
   "source": []
  },
  {
   "cell_type": "markdown",
   "metadata": {
    "collapsed": true
   },
   "source": [
    "<h4>Loading Vra Integrated Database</h4>"
   ]
  },
  {
   "cell_type": "code",
   "execution_count": 4,
   "metadata": {},
   "outputs": [
    {
     "name": "stderr",
     "output_type": "stream",
     "text": [
      "Warning message in dir.create(\"Saves\"):\n",
      "\"'Saves' já existe\"Warning message in dir.create(\"Saves/NN\"):\n",
      "\"'Saves\\NN' já existe\"Warning message in dir.create(\"Saves/RF\"):\n",
      "\"'Saves\\RF' já existe\""
     ]
    }
   ],
   "source": [
    "\n",
    "dir.create(\"Saves\")\n",
    "dir.create(\"Saves/NN\")\n",
    "dir.create(\"Saves/RF\")\n",
    "\n",
    "load_result <- load_vra()"
   ]
  },
  {
   "cell_type": "code",
   "execution_count": 3,
   "metadata": {},
   "outputs": [
    {
     "name": "stdout",
     "output_type": "stream",
     "text": [
      "Observations: 8,683,195\n",
      "Variables: 38\n",
      "$ airline               <fctr> TAM, TAM, AAL, JAL, AAL, DAL, TAM, AAL, TAM,...\n",
      "$ flight                <fctr> 8082, 8080, 956, 47, 950, 120, 8078, 974, 80...\n",
      "$ line_type             <fctr> I, I, I, I, I, I, I, I, I, I, I, I, I, I, G,...\n",
      "$ departure             <fctr> SBGR, SBGR, SAEZ, SBGR, SBGR, SBGR, SBGL, SB...\n",
      "$ departure_state       <chr> \"SP\", \"SP\", NA, \"SP\", \"SP\", \"SP\", \"RJ\", \"RJ\",...\n",
      "$ departure_expect      <dttm> 2009-01-01 08:45:00, 2009-01-01 22:30:00, 20...\n",
      "$ departure_time        <dttm> 2009-01-01 08:45:00, 2009-01-01 22:30:00, 20...\n",
      "$ departure_delay       <dbl> 0, 0, 0, 0, 0, 0, 46, 0, 22, 113, 40, 0, 0, 0...\n",
      "$ departure_year        <dbl> 2009, 2009, 2009, 2009, 2009, 2009, 2009, 200...\n",
      "$ departure_month       <dbl> 1, 1, 1, 1, 1, 1, 1, 1, 1, 1, 1, 1, 1, 1, 1, ...\n",
      "$ departure_hour        <int> 8, 22, 22, 23, 23, 23, 23, 23, 8, 22, 23, 22,...\n",
      "$ departure_day         <int> 1, 1, 1, 1, 1, 1, 1, 1, 2, 2, 2, 2, 2, 2, 3, ...\n",
      "$ departure_weekday     <dbl> 5, 5, 5, 5, 5, 5, 5, 5, 6, 6, 6, 6, 6, 6, 7, ...\n",
      "$ departure_temperature <dbl> 22, 20, 18, 20, 20, 20, 25, 25, 20, 22, 22, 2...\n",
      "$ departure_dew_point   <dbl> 19, 19, 11, 19, 19, 19, 22, 22, 19, 20, 20, 1...\n",
      "$ departure_humidity    <dbl> 83, 94, 68, 94, 94, 94, 83, 83, 94, 94, 94, 7...\n",
      "$ departure_pressure    <dbl> 1016, 1015, 1020, 1015, 1015, 1015, 1011, 101...\n",
      "$ departure_visibility  <dbl> NA, NA, NA, NA, NA, NA, NA, NA, 8, 10, 10, 12...\n",
      "$ departure_events      <fctr> NONE, NONE, NONE, NONE, NONE, NONE, NONE, NO...\n",
      "$ departure_conditions  <fctr> CLEAR, PARTLYCLOUDY, OVERCAST, LIGHTRAIN, LI...\n",
      "$ arrival               <fctr> KJFK, KJFK, KJFK, KJFK, KJFK, KJFK, KJFK, KJ...\n",
      "$ arrival_state         <chr> NA, NA, NA, NA, NA, NA, NA, NA, NA, NA, NA, N...\n",
      "$ arrival_expect        <dttm> 2009-01-01 18:45:00, 2009-01-02 08:30:00, 20...\n",
      "$ arrival_time          <dttm> 2009-01-01 18:45:00, 2009-01-02 08:30:00, 20...\n",
      "$ arrival_delay         <dbl> 0, 0, 0, 0, 0, 0, 75, 0, 69, 157, 70, 0, 0, 0...\n",
      "$ delayed               <dbl> 0, 0, 0, 0, 0, 0, 1, 0, 1, 1, 1, 0, 0, 0, NA,...\n",
      "$ arrival_temperature   <dbl> 4.4, 1.7, 2.2, 2.2, 2.2, 2.2, 2.2, 2.2, 1.1, ...\n",
      "$ arrival_dew_point     <dbl> 10.2, 4.9, 3.8, 3.8, 3.8, 3.8, 3.8, 3.8, 4.3,...\n",
      "$ arrival_humidity      <dbl> 17.2, 8.3, 8.9, 8.9, 8.9, 8.9, 8.9, 8.9, 3.9,...\n",
      "$ arrival_pressure      <dbl> 1025.4, 1016.0, 1015.1, 1015.1, 1015.1, 1015....\n",
      "$ arrival_visibility    <dbl> 37, 48, 52, 52, 52, 52, 52, 52, 79, 44, 43, 4...\n",
      "$ arrival_events        <fctr> GENTLEBREEZE, FRESHBREEZE, MODERATEBREEZE, M...\n",
      "$ arrival_conditions    <fctr> NONE, NONE, NONE, NONE, NONE, NONE, NONE, NO...\n",
      "$ duration_expect       <dbl> 600, 600, 650, 575, 580, 610, 585, 605, 600, ...\n",
      "$ duration              <dbl> 600, 600, 650, 575, 580, 610, 614, 625, 647, ...\n",
      "$ duration_delta        <dbl> 0, 0, 0, 0, 0, 0, 29, 20, 47, 44, 30, 0, 0, 0...\n",
      "$ status                <fctr> REALIZADO, REALIZADO, REALIZADO, REALIZADO, ...\n",
      "$ observation           <fctr> NO, NO, NO, NO, NO, NO, RA, HB, RM, AR, RA, ...\n"
     ]
    }
   ],
   "source": [
    "glimpse(load_result$vra_wu)"
   ]
  },
  {
   "cell_type": "code",
   "execution_count": 4,
   "metadata": {},
   "outputs": [
    {
     "data": {
      "text/html": [
       "<table>\n",
       "<thead><tr><th scope=col>airline</th><th scope=col>flight</th><th scope=col>line_type</th><th scope=col>departure</th><th scope=col>departure_state</th><th scope=col>departure_expect</th><th scope=col>departure_time</th><th scope=col>departure_delay</th><th scope=col>departure_year</th><th scope=col>departure_month</th><th scope=col>...</th><th scope=col>arrival_humidity</th><th scope=col>arrival_pressure</th><th scope=col>arrival_visibility</th><th scope=col>arrival_events</th><th scope=col>arrival_conditions</th><th scope=col>duration_expect</th><th scope=col>duration</th><th scope=col>duration_delta</th><th scope=col>status</th><th scope=col>observation</th></tr></thead>\n",
       "<tbody>\n",
       "\t<tr><td>TAM                </td><td>8082               </td><td>I                  </td><td>SBGR               </td><td>SP                 </td><td>2009-01-01 08:45:00</td><td>2009-01-01 08:45:00</td><td>0                  </td><td>2009               </td><td>1                  </td><td>...                </td><td>17.2               </td><td>1025.4             </td><td>37                 </td><td>GENTLEBREEZE       </td><td>NONE               </td><td>600                </td><td>600                </td><td>0                  </td><td>REALIZADO          </td><td>NO                 </td></tr>\n",
       "\t<tr><td>TAM                </td><td>8080               </td><td>I                  </td><td>SBGR               </td><td>SP                 </td><td>2009-01-01 22:30:00</td><td>2009-01-01 22:30:00</td><td>0                  </td><td>2009               </td><td>1                  </td><td>...                </td><td> 8.3               </td><td>1016.0             </td><td>48                 </td><td>FRESHBREEZE        </td><td>NONE               </td><td>600                </td><td>600                </td><td>0                  </td><td>REALIZADO          </td><td>NO                 </td></tr>\n",
       "\t<tr><td>AAL                </td><td>956                </td><td>I                  </td><td>SAEZ               </td><td>NA                 </td><td>2009-01-01 22:15:00</td><td>2009-01-01 22:15:00</td><td>0                  </td><td>2009               </td><td>1                  </td><td>...                </td><td> 8.9               </td><td>1015.1             </td><td>52                 </td><td>MODERATEBREEZE     </td><td>NONE               </td><td>650                </td><td>650                </td><td>0                  </td><td>REALIZADO          </td><td>NO                 </td></tr>\n",
       "\t<tr><td>JAL                </td><td>47                 </td><td>I                  </td><td>SBGR               </td><td>SP                 </td><td>2009-01-01 23:55:00</td><td>2009-01-01 23:55:00</td><td>0                  </td><td>2009               </td><td>1                  </td><td>...                </td><td> 8.9               </td><td>1015.1             </td><td>52                 </td><td>MODERATEBREEZE     </td><td>NONE               </td><td>575                </td><td>575                </td><td>0                  </td><td>REALIZADO          </td><td>NO                 </td></tr>\n",
       "\t<tr><td>AAL                </td><td>950                </td><td>I                  </td><td>SBGR               </td><td>SP                 </td><td>2009-01-01 23:25:00</td><td>2009-01-01 23:25:00</td><td>0                  </td><td>2009               </td><td>1                  </td><td>...                </td><td> 8.9               </td><td>1015.1             </td><td>52                 </td><td>MODERATEBREEZE     </td><td>NONE               </td><td>580                </td><td>580                </td><td>0                  </td><td>REALIZADO          </td><td>NO                 </td></tr>\n",
       "</tbody>\n",
       "</table>\n"
      ],
      "text/latex": [
       "\\begin{tabular}{r|llllllllllllllllllllllllllllllllllllll}\n",
       " airline & flight & line\\_type & departure & departure\\_state & departure\\_expect & departure\\_time & departure\\_delay & departure\\_year & departure\\_month & ... & arrival\\_humidity & arrival\\_pressure & arrival\\_visibility & arrival\\_events & arrival\\_conditions & duration\\_expect & duration & duration\\_delta & status & observation\\\\\n",
       "\\hline\n",
       "\t TAM                 & 8082                & I                   & SBGR                & SP                  & 2009-01-01 08:45:00 & 2009-01-01 08:45:00 & 0                   & 2009                & 1                   & ...                 & 17.2                & 1025.4              & 37                  & GENTLEBREEZE        & NONE                & 600                 & 600                 & 0                   & REALIZADO           & NO                 \\\\\n",
       "\t TAM                 & 8080                & I                   & SBGR                & SP                  & 2009-01-01 22:30:00 & 2009-01-01 22:30:00 & 0                   & 2009                & 1                   & ...                 &  8.3                & 1016.0              & 48                  & FRESHBREEZE         & NONE                & 600                 & 600                 & 0                   & REALIZADO           & NO                 \\\\\n",
       "\t AAL                 & 956                 & I                   & SAEZ                & NA                  & 2009-01-01 22:15:00 & 2009-01-01 22:15:00 & 0                   & 2009                & 1                   & ...                 &  8.9                & 1015.1              & 52                  & MODERATEBREEZE      & NONE                & 650                 & 650                 & 0                   & REALIZADO           & NO                 \\\\\n",
       "\t JAL                 & 47                  & I                   & SBGR                & SP                  & 2009-01-01 23:55:00 & 2009-01-01 23:55:00 & 0                   & 2009                & 1                   & ...                 &  8.9                & 1015.1              & 52                  & MODERATEBREEZE      & NONE                & 575                 & 575                 & 0                   & REALIZADO           & NO                 \\\\\n",
       "\t AAL                 & 950                 & I                   & SBGR                & SP                  & 2009-01-01 23:25:00 & 2009-01-01 23:25:00 & 0                   & 2009                & 1                   & ...                 &  8.9                & 1015.1              & 52                  & MODERATEBREEZE      & NONE                & 580                 & 580                 & 0                   & REALIZADO           & NO                 \\\\\n",
       "\\end{tabular}\n"
      ],
      "text/markdown": [
       "\n",
       "airline | flight | line_type | departure | departure_state | departure_expect | departure_time | departure_delay | departure_year | departure_month | ... | arrival_humidity | arrival_pressure | arrival_visibility | arrival_events | arrival_conditions | duration_expect | duration | duration_delta | status | observation | \n",
       "|---|---|---|---|---|\n",
       "| TAM                 | 8082                | I                   | SBGR                | SP                  | 2009-01-01 08:45:00 | 2009-01-01 08:45:00 | 0                   | 2009                | 1                   | ...                 | 17.2                | 1025.4              | 37                  | GENTLEBREEZE        | NONE                | 600                 | 600                 | 0                   | REALIZADO           | NO                  | \n",
       "| TAM                 | 8080                | I                   | SBGR                | SP                  | 2009-01-01 22:30:00 | 2009-01-01 22:30:00 | 0                   | 2009                | 1                   | ...                 |  8.3                | 1016.0              | 48                  | FRESHBREEZE         | NONE                | 600                 | 600                 | 0                   | REALIZADO           | NO                  | \n",
       "| AAL                 | 956                 | I                   | SAEZ                | NA                  | 2009-01-01 22:15:00 | 2009-01-01 22:15:00 | 0                   | 2009                | 1                   | ...                 |  8.9                | 1015.1              | 52                  | MODERATEBREEZE      | NONE                | 650                 | 650                 | 0                   | REALIZADO           | NO                  | \n",
       "| JAL                 | 47                  | I                   | SBGR                | SP                  | 2009-01-01 23:55:00 | 2009-01-01 23:55:00 | 0                   | 2009                | 1                   | ...                 |  8.9                | 1015.1              | 52                  | MODERATEBREEZE      | NONE                | 575                 | 575                 | 0                   | REALIZADO           | NO                  | \n",
       "| AAL                 | 950                 | I                   | SBGR                | SP                  | 2009-01-01 23:25:00 | 2009-01-01 23:25:00 | 0                   | 2009                | 1                   | ...                 |  8.9                | 1015.1              | 52                  | MODERATEBREEZE      | NONE                | 580                 | 580                 | 0                   | REALIZADO           | NO                  | \n",
       "\n",
       "\n"
      ],
      "text/plain": [
       "  airline flight line_type departure departure_state departure_expect   \n",
       "1 TAM     8082   I         SBGR      SP              2009-01-01 08:45:00\n",
       "2 TAM     8080   I         SBGR      SP              2009-01-01 22:30:00\n",
       "3 AAL     956    I         SAEZ      NA              2009-01-01 22:15:00\n",
       "4 JAL     47     I         SBGR      SP              2009-01-01 23:55:00\n",
       "5 AAL     950    I         SBGR      SP              2009-01-01 23:25:00\n",
       "  departure_time      departure_delay departure_year departure_month ...\n",
       "1 2009-01-01 08:45:00 0               2009           1               ...\n",
       "2 2009-01-01 22:30:00 0               2009           1               ...\n",
       "3 2009-01-01 22:15:00 0               2009           1               ...\n",
       "4 2009-01-01 23:55:00 0               2009           1               ...\n",
       "5 2009-01-01 23:25:00 0               2009           1               ...\n",
       "  arrival_humidity arrival_pressure arrival_visibility arrival_events\n",
       "1 17.2             1025.4           37                 GENTLEBREEZE  \n",
       "2  8.3             1016.0           48                 FRESHBREEZE   \n",
       "3  8.9             1015.1           52                 MODERATEBREEZE\n",
       "4  8.9             1015.1           52                 MODERATEBREEZE\n",
       "5  8.9             1015.1           52                 MODERATEBREEZE\n",
       "  arrival_conditions duration_expect duration duration_delta status   \n",
       "1 NONE               600             600      0              REALIZADO\n",
       "2 NONE               600             600      0              REALIZADO\n",
       "3 NONE               650             650      0              REALIZADO\n",
       "4 NONE               575             575      0              REALIZADO\n",
       "5 NONE               580             580      0              REALIZADO\n",
       "  observation\n",
       "1 NO         \n",
       "2 NO         \n",
       "3 NO         \n",
       "4 NO         \n",
       "5 NO         "
      ]
     },
     "metadata": {},
     "output_type": "display_data"
    }
   ],
   "source": [
    "head(load_result$vra_wu,5)"
   ]
  },
  {
   "cell_type": "markdown",
   "metadata": {},
   "source": [
    "<h3>Data Cleaning</h3>"
   ]
  },
  {
   "cell_type": "code",
   "execution_count": 18,
   "metadata": {},
   "outputs": [
    {
     "data": {
      "text/html": [
       "<table>\n",
       "<thead><tr><th scope=col>condition</th><th scope=col>qtd</th></tr></thead>\n",
       "<tbody>\n",
       "\t<tr><td>canceled flights                         </td><td>830436                                   </td></tr>\n",
       "\t<tr><td>depature time occuring after arrival time</td><td>  1758                                   </td></tr>\n",
       "\t<tr><td>depature equals arrival                  </td><td> 15775                                   </td></tr>\n",
       "\t<tr><td>negative flight duration                 </td><td>  1758                                   </td></tr>\n",
       "\t<tr><td>flight duration greather than one day    </td><td>  2349                                   </td></tr>\n",
       "\t<tr><td>too low or too high temperature values   </td><td>     0                                   </td></tr>\n",
       "\t<tr><td>too high dew point                       </td><td>     0                                   </td></tr>\n",
       "\t<tr><td>invalid humidity range                   </td><td>    21                                   </td></tr>\n",
       "\t<tr><td>invalid preasure range                   </td><td>   139                                   </td></tr>\n",
       "\t<tr><td>invalid visibility range                 </td><td>     2                                   </td></tr>\n",
       "</tbody>\n",
       "</table>\n"
      ],
      "text/latex": [
       "\\begin{tabular}{r|ll}\n",
       " condition & qtd\\\\\n",
       "\\hline\n",
       "\t canceled flights                          & 830436                                   \\\\\n",
       "\t depature time occuring after arrival time &   1758                                   \\\\\n",
       "\t depature equals arrival                   &  15775                                   \\\\\n",
       "\t negative flight duration                  &   1758                                   \\\\\n",
       "\t flight duration greather than one day     &   2349                                   \\\\\n",
       "\t too low or too high temperature values    &      0                                   \\\\\n",
       "\t too high dew point                        &      0                                   \\\\\n",
       "\t invalid humidity range                    &     21                                   \\\\\n",
       "\t invalid preasure range                    &    139                                   \\\\\n",
       "\t invalid visibility range                  &      2                                   \\\\\n",
       "\\end{tabular}\n"
      ],
      "text/markdown": [
       "\n",
       "condition | qtd | \n",
       "|---|---|---|---|---|---|---|---|---|---|\n",
       "| canceled flights                          | 830436                                    | \n",
       "| depature time occuring after arrival time |   1758                                    | \n",
       "| depature equals arrival                   |  15775                                    | \n",
       "| negative flight duration                  |   1758                                    | \n",
       "| flight duration greather than one day     |   2349                                    | \n",
       "| too low or too high temperature values    |      0                                    | \n",
       "| too high dew point                        |      0                                    | \n",
       "| invalid humidity range                    |     21                                    | \n",
       "| invalid preasure range                    |    139                                    | \n",
       "| invalid visibility range                  |      2                                    | \n",
       "\n",
       "\n"
      ],
      "text/plain": [
       "   condition                                 qtd   \n",
       "1  canceled flights                          830436\n",
       "2  depature time occuring after arrival time   1758\n",
       "3  depature equals arrival                    15775\n",
       "4  negative flight duration                    1758\n",
       "5  flight duration greather than one day       2349\n",
       "6  too low or too high temperature values         0\n",
       "7  too high dew point                             0\n",
       "8  invalid humidity range                        21\n",
       "9  invalid preasure range                       139\n",
       "10 invalid visibility range                       2"
      ]
     },
     "metadata": {},
     "output_type": "display_data"
    }
   ],
   "source": [
    "clean_result <- data_clean_by_domain(load_result$vra_wu)\n",
    "clean_result$report\n"
   ]
  },
  {
   "cell_type": "code",
   "execution_count": 19,
   "metadata": {},
   "outputs": [
    {
     "name": "stdout",
     "output_type": "stream",
     "text": [
      "Observations: 7,832,743\n",
      "Variables: 38\n",
      "$ airline               <fctr> TAM, TAM, AAL, JAL, AAL, DAL, TAM, AAL, TAM,...\n",
      "$ flight                <fctr> 8082, 8080, 956, 47, 950, 120, 8078, 974, 80...\n",
      "$ line_type             <fctr> I, I, I, I, I, I, I, I, I, I, I, I, I, I, I,...\n",
      "$ departure             <fctr> SBGR, SBGR, SAEZ, SBGR, SBGR, SBGR, SBGL, SB...\n",
      "$ departure_state       <chr> \"SP\", \"SP\", NA, \"SP\", \"SP\", \"SP\", \"RJ\", \"RJ\",...\n",
      "$ departure_expect      <dttm> 2009-01-01 08:45:00, 2009-01-01 22:30:00, 20...\n",
      "$ departure_time        <dttm> 2009-01-01 08:45:00, 2009-01-01 22:30:00, 20...\n",
      "$ departure_delay       <dbl> 0, 0, 0, 0, 0, 0, 46, 0, 22, 113, 40, 0, 0, 0...\n",
      "$ departure_year        <dbl> 2009, 2009, 2009, 2009, 2009, 2009, 2009, 200...\n",
      "$ departure_month       <dbl> 1, 1, 1, 1, 1, 1, 1, 1, 1, 1, 1, 1, 1, 1, 1, ...\n",
      "$ departure_hour        <int> 8, 22, 22, 23, 23, 23, 23, 23, 8, 22, 23, 22,...\n",
      "$ departure_day         <int> 1, 1, 1, 1, 1, 1, 1, 1, 2, 2, 2, 2, 2, 2, 3, ...\n",
      "$ departure_weekday     <dbl> 5, 5, 5, 5, 5, 5, 5, 5, 6, 6, 6, 6, 6, 6, 7, ...\n",
      "$ departure_temperature <dbl> 22, 20, 18, 20, 20, 20, 25, 25, 20, 22, 22, 2...\n",
      "$ departure_dew_point   <dbl> 19, 19, 11, 19, 19, 19, 22, 22, 19, 20, 20, 1...\n",
      "$ departure_humidity    <dbl> 83, 94, 68, 94, 94, 94, 83, 83, 94, 94, 94, 7...\n",
      "$ departure_pressure    <dbl> 1016, 1015, 1020, 1015, 1015, 1015, 1011, 101...\n",
      "$ departure_visibility  <dbl> NA, NA, NA, NA, NA, NA, NA, NA, 8, 10, 10, 12...\n",
      "$ departure_events      <fctr> NONE, NONE, NONE, NONE, NONE, NONE, NONE, NO...\n",
      "$ departure_conditions  <fctr> CLEAR, PARTLYCLOUDY, OVERCAST, LIGHTRAIN, LI...\n",
      "$ arrival               <fctr> KJFK, KJFK, KJFK, KJFK, KJFK, KJFK, KJFK, KJ...\n",
      "$ arrival_state         <chr> NA, NA, NA, NA, NA, NA, NA, NA, NA, NA, NA, N...\n",
      "$ arrival_expect        <dttm> 2009-01-01 18:45:00, 2009-01-02 08:30:00, 20...\n",
      "$ arrival_time          <dttm> 2009-01-01 18:45:00, 2009-01-02 08:30:00, 20...\n",
      "$ arrival_delay         <dbl> 0, 0, 0, 0, 0, 0, 75, 0, 69, 157, 70, 0, 0, 0...\n",
      "$ delayed               <dbl> 0, 0, 0, 0, 0, 0, 1, 0, 1, 1, 1, 0, 0, 0, 1, ...\n",
      "$ arrival_temperature   <dbl> 4.4, 1.7, 2.2, 2.2, 2.2, 2.2, 2.2, 2.2, 1.1, ...\n",
      "$ arrival_dew_point     <dbl> 10.2, 4.9, 3.8, 3.8, 3.8, 3.8, 3.8, 3.8, 4.3,...\n",
      "$ arrival_humidity      <dbl> 17.2, 8.3, 8.9, 8.9, 8.9, 8.9, 8.9, 8.9, 3.9,...\n",
      "$ arrival_pressure      <dbl> 1025.4, 1016.0, 1015.1, 1015.1, 1015.1, 1015....\n",
      "$ arrival_visibility    <dbl> 37, 48, 52, 52, 52, 52, 52, 52, 79, 44, 43, 4...\n",
      "$ arrival_events        <fctr> GENTLEBREEZE, FRESHBREEZE, MODERATEBREEZE, M...\n",
      "$ arrival_conditions    <fctr> NONE, NONE, NONE, NONE, NONE, NONE, NONE, NO...\n",
      "$ duration_expect       <dbl> 600, 600, 650, 575, 580, 610, 585, 605, 600, ...\n",
      "$ duration              <dbl> 600, 600, 650, 575, 580, 610, 614, 625, 647, ...\n",
      "$ duration_delta        <dbl> 0, 0, 0, 0, 0, 0, 29, 20, 47, 44, 30, 0, 0, 0...\n",
      "$ status                <fctr> REALIZADO, REALIZADO, REALIZADO, REALIZADO, ...\n",
      "$ observation           <fctr> NO, NO, NO, NO, NO, NO, RA, HB, RM, AR, RA, ...\n"
     ]
    }
   ],
   "source": [
    "glimpse(clean_result$vra_wu)"
   ]
  },
  {
   "cell_type": "markdown",
   "metadata": {},
   "source": [
    "<h3>Data Filtering</h3>"
   ]
  },
  {
   "cell_type": "code",
   "execution_count": 20,
   "metadata": {
    "collapsed": true
   },
   "outputs": [],
   "source": [
    "filtered_result <- filter_vra(clean_result$vra_wu)\n"
   ]
  },
  {
   "cell_type": "markdown",
   "metadata": {},
   "source": [
    "2015:2017"
   ]
  },
  {
   "cell_type": "code",
   "execution_count": 21,
   "metadata": {},
   "outputs": [
    {
     "name": "stdout",
     "output_type": "stream",
     "text": [
      "Observations: 1,652,941\n",
      "Variables: 19\n",
      "$ airline               <fctr> AZU, GLO, AZU, GLO, TAM, ONE, TAM, GLO, GLO,...\n",
      "$ flight                <fctr> 4100, 1934, 4101, 1350, 3664, 6222, 3893, 18...\n",
      "$ departure             <fctr> SBMO, SBGL, SBKP, SBGR, SBGR, SBBR, SBRF, SB...\n",
      "$ arrival               <fctr> SBAR, SBAR, SBAR, SBAR, SBAR, SBAR, SBAR, SB...\n",
      "$ departure_expect      <dttm> 2015-01-01 02:27:00, 2015-01-01 07:41:00, 20...\n",
      "$ departure_time        <dttm> 2014-12-31 02:15:00, 2015-01-01 07:41:00, 20...\n",
      "$ departure_year        <dbl> 2015, 2015, 2015, 2015, 2015, 2015, 2015, 201...\n",
      "$ departure_month       <dbl> 1, 1, 1, 1, 1, 1, 1, 1, 1, 1, 1, 1, 1, 1, 1, ...\n",
      "$ departure_hour        <int> 2, 7, 9, 10, 11, 12, 14, 15, 16, 22, 23, 22, ...\n",
      "$ departure_day         <int> 1, 1, 1, 1, 1, 1, 1, 1, 1, 1, 1, 1, 1, 1, 2, ...\n",
      "$ departure_weekday     <dbl> 5, 5, 5, 5, 5, 5, 5, 5, 5, 5, 5, 5, 5, 5, 6, ...\n",
      "$ departure_temperature <dbl> 24, 25, 25, 28, 29, 30, 28, 29, 35, 26, 26, 2...\n",
      "$ departure_dew_point   <dbl> 22, 20, 20, 20, 20, 15, 23, 22, 18, 22, 22, 2...\n",
      "$ departure_humidity    <dbl> 89, 74, 74, 62, 58, 40, 74, 66, 36, 78, 78, 7...\n",
      "$ departure_pressure    <dbl> 1014, 1010, 1017, 1016, 1017, 1020, 1012, 101...\n",
      "$ departure_visibility  <dbl> 10, NA, NA, NA, 10, 10, 10, NA, 20, 10, 10, 1...\n",
      "$ departure_events      <fctr> NONE, NONE, NONE, NONE, NONE, NONE, NONE, NO...\n",
      "$ departure_conditions  <fctr> SCATTEREDCLOUDS, RAIN, CLEAR, CLEAR, SCATTER...\n",
      "$ delayed               <dbl> 0, 0, 0, 1, 0, 0, 0, 0, 0, 0, 0, 0, 1, 0, 0, ...\n"
     ]
    }
   ],
   "source": [
    "glimpse(filtered_result$vra_wu)\n"
   ]
  },
  {
   "cell_type": "markdown",
   "metadata": {},
   "source": [
    "<h3>Data Imputation</h3>"
   ]
  },
  {
   "cell_type": "markdown",
   "metadata": {},
   "source": [
    "<h4>Missing Data</h4>"
   ]
  },
  {
   "cell_type": "code",
   "execution_count": 22,
   "metadata": {},
   "outputs": [
    {
     "name": "stdout",
     "output_type": "stream",
     "text": [
      "Observations: 1,652,941\n",
      "Variables: 19\n",
      "$ airline               <fctr> AZU, GLO, AZU, GLO, TAM, ONE, TAM, GLO, GLO,...\n",
      "$ flight                <fctr> 4100, 1934, 4101, 1350, 3664, 6222, 3893, 18...\n",
      "$ departure             <fctr> SBMO, SBGL, SBKP, SBGR, SBGR, SBBR, SBRF, SB...\n",
      "$ arrival               <fctr> SBAR, SBAR, SBAR, SBAR, SBAR, SBAR, SBAR, SB...\n",
      "$ departure_expect      <dttm> 2015-01-01 02:27:00, 2015-01-01 07:41:00, 20...\n",
      "$ departure_time        <dttm> 2014-12-31 02:15:00, 2015-01-01 07:41:00, 20...\n",
      "$ departure_year        <dbl> 2015, 2015, 2015, 2015, 2015, 2015, 2015, 201...\n",
      "$ departure_month       <dbl> 1, 1, 1, 1, 1, 1, 1, 1, 1, 1, 1, 1, 1, 1, 1, ...\n",
      "$ departure_hour        <int> 2, 7, 9, 10, 11, 12, 14, 15, 16, 22, 23, 22, ...\n",
      "$ departure_day         <int> 1, 1, 1, 1, 1, 1, 1, 1, 1, 1, 1, 1, 1, 1, 2, ...\n",
      "$ departure_weekday     <dbl> 5, 5, 5, 5, 5, 5, 5, 5, 5, 5, 5, 5, 5, 5, 6, ...\n",
      "$ departure_temperature <dbl> 24, 25, 25, 28, 29, 30, 28, 29, 35, 26, 26, 2...\n",
      "$ departure_dew_point   <dbl> 22, 20, 20, 20, 20, 15, 23, 22, 18, 22, 22, 2...\n",
      "$ departure_humidity    <dbl> 89, 74, 74, 62, 58, 40, 74, 66, 36, 78, 78, 7...\n",
      "$ departure_pressure    <dbl> 1014, 1010, 1017, 1016, 1017, 1020, 1012, 101...\n",
      "$ departure_visibility  <dbl> 10, NA, NA, NA, 10, 10, 10, NA, 20, 10, 10, 1...\n",
      "$ departure_events      <fctr> NONE, NONE, NONE, NONE, NONE, NONE, NONE, NO...\n",
      "$ departure_conditions  <fctr> SCATTEREDCLOUDS, RAIN, CLEAR, CLEAR, SCATTER...\n",
      "$ delayed               <dbl> 0, 0, 0, 1, 0, 0, 0, 0, 0, 0, 0, 0, 1, 0, 0, ...\n"
     ]
    },
    {
     "data": {},
     "metadata": {},
     "output_type": "display_data"
    },
    {
     "data": {
      "image/png": "[encoded data removed]",
      "text/plain": [
       "plot without title"
      ]
     },
     "metadata": {},
     "output_type": "display_data"
    }
   ],
   "source": [
    "data_missing(filtered_result$vra_wu)"
   ]
  },
  {
   "cell_type": "markdown",
   "metadata": {},
   "source": [
    "<h4>Imputation</h4>"
   ]
  },
  {
   "cell_type": "code",
   "execution_count": 23,
   "metadata": {},
   "outputs": [
    {
     "name": "stdout",
     "output_type": "stream",
     "text": [
      "Observations: 1,652,941\n",
      "Variables: 19\n",
      "$ airline               <fctr> AZU, GLO, AZU, GLO, TAM, ONE, TAM, GLO, GLO,...\n",
      "$ flight                <fctr> 4100, 1934, 4101, 1350, 3664, 6222, 3893, 18...\n",
      "$ departure             <fctr> SBMO, SBGL, SBKP, SBGR, SBGR, SBBR, SBRF, SB...\n",
      "$ arrival               <fctr> SBAR, SBAR, SBAR, SBAR, SBAR, SBAR, SBAR, SB...\n",
      "$ departure_expect      <dttm> 2015-01-01 02:27:00, 2015-01-01 07:41:00, 20...\n",
      "$ departure_time        <dttm> 2014-12-31 02:15:00, 2015-01-01 07:41:00, 20...\n",
      "$ departure_year        <dbl> 2015, 2015, 2015, 2015, 2015, 2015, 2015, 201...\n",
      "$ departure_month       <dbl> 1, 1, 1, 1, 1, 1, 1, 1, 1, 1, 1, 1, 1, 1, 1, ...\n",
      "$ departure_hour        <int> 2, 7, 9, 10, 11, 12, 14, 15, 16, 22, 23, 22, ...\n",
      "$ departure_day         <int> 1, 1, 1, 1, 1, 1, 1, 1, 1, 1, 1, 1, 1, 1, 2, ...\n",
      "$ departure_weekday     <dbl> 5, 5, 5, 5, 5, 5, 5, 5, 5, 5, 5, 5, 5, 5, 6, ...\n",
      "$ departure_temperature <dbl> 24, 25, 25, 28, 29, 30, 28, 29, 35, 26, 26, 2...\n",
      "$ departure_dew_point   <dbl> 22, 20, 20, 20, 20, 15, 23, 22, 18, 22, 22, 2...\n",
      "$ departure_humidity    <dbl> 89, 74, 74, 62, 58, 40, 74, 66, 36, 78, 78, 7...\n",
      "$ departure_pressure    <dbl> 1014, 1010, 1017, 1016, 1017, 1020, 1012, 101...\n",
      "$ departure_visibility  <dbl> 10, NA, NA, NA, 10, 10, 10, NA, 20, 10, 10, 1...\n",
      "$ departure_events      <fctr> NONE, NONE, NONE, NONE, NONE, NONE, NONE, NO...\n",
      "$ departure_conditions  <fctr> SCATTEREDCLOUDS, RAIN, CLEAR, CLEAR, SCATTER...\n",
      "$ delayed               <dbl> 0, 0, 0, 1, 0, 0, 0, 0, 0, 0, 0, 0, 1, 0, 0, ...\n"
     ]
    },
    {
     "data": {
      "image/png": "[encoded data removed]",
      "text/plain": [
       "Plot with title \"\""
      ]
     },
     "metadata": {},
     "output_type": "display_data"
    }
   ],
   "source": [
    "inputation_result <- data_inputation(filtered_result$vra_wu)"
   ]
  },
  {
   "cell_type": "markdown",
   "metadata": {},
   "source": [
    "<h3>Data Transformation</h3>"
   ]
  },
  {
   "cell_type": "code",
   "execution_count": 11,
   "metadata": {
    "collapsed": true
   },
   "outputs": [],
   "source": [
    "load(\"E:/leonardosm/Documents/Mestrado/Monografia/novo_servidor/Brazilian-Flight-Delay/demonstracao/presentation/dataset/transform_result.RData\")"
   ]
  },
  {
   "cell_type": "code",
   "execution_count": 9,
   "metadata": {},
   "outputs": [
    {
     "name": "stdout",
     "output_type": "stream",
     "text": [
      "Observations: 1,652,941\n",
      "Variables: 182\n",
      "$ airline                                       <fctr> AZU, GLO, AZU, GLO, ...\n",
      "$ flight                                        <fctr> 4100, 1934, 4101, 13...\n",
      "$ departure                                     <fctr> SBMO, SBGL, SBKP, SB...\n",
      "$ arrival                                       <fctr> SBAR, SBAR, SBAR, SB...\n",
      "$ departure_expect                              <dttm> 2015-01-01 02:27:00,...\n",
      "$ departure_time                                <dttm> 2014-12-31 02:15:00,...\n",
      "$ departure_year                                <dbl> 2015, 2015, 2015, 201...\n",
      "$ departure_month                               <dbl> 1, 1, 1, 1, 1, 1, 1, ...\n",
      "$ departure_hour                                <int> 2, 7, 9, 10, 11, 12, ...\n",
      "$ departure_day                                 <int> 1, 1, 1, 1, 1, 1, 1, ...\n",
      "$ departure_weekday                             <dbl> 5, 5, 5, 5, 5, 5, 5, ...\n",
      "$ departure_temperature                         <dbl> 24, 25, 25, 28, 29, 3...\n",
      "$ departure_dew_point                           <dbl> 22, 20, 20, 20, 20, 1...\n",
      "$ departure_humidity                            <dbl> 89, 74, 74, 62, 58, 4...\n",
      "$ departure_pressure                            <dbl> 1014, 1010, 1017, 101...\n",
      "$ departure_visibility                          <dbl> 10, 20, 10, 10, 10, 1...\n",
      "$ departure_events                              <fctr> NONE, NONE, NONE, NO...\n",
      "$ departure_conditions                          <fctr> SCATTEREDCLOUDS, RAI...\n",
      "$ delayed                                       <dbl> 0, 0, 0, 1, 0, 0, 0, ...\n",
      "$ departure_hour_bin                            <int> 1, 2, 3, 3, 3, 4, 4, ...\n",
      "$ departure_temperature_bin                     <int> 4, 4, 4, 4, 5, 5, 4, ...\n",
      "$ departure_dew_point_bin                       <int> 4, 4, 4, 4, 4, 3, 5, ...\n",
      "$ departure_humidity_bin                        <int> 6, 5, 5, 4, 3, 2, 5, ...\n",
      "$ arrival_humidity_bin                          <int> 4, 3, 5, 4, 5, 6, 3, ...\n",
      "$ departure_visibility_bin                      <int> 1, 2, 1, 1, 1, 1, 1, ...\n",
      "$ departure_eventsFRESHBREEZE                   <dbl> 0, 0, 0, 0, 0, 0, 0, ...\n",
      "$ departure_eventsGENTLEBREEZE                  <dbl> 0, 0, 0, 0, 0, 0, 0, ...\n",
      "$ departure_eventsLIGHTAIR                      <dbl> 0, 0, 0, 0, 0, 0, 0, ...\n",
      "$ departure_eventsLIGHTBREEZE                   <dbl> 0, 0, 0, 0, 0, 0, 0, ...\n",
      "$ departure_eventsMODERATEBREEZE                <dbl> 0, 0, 0, 0, 0, 0, 0, ...\n",
      "$ departure_eventsNONE                          <dbl> 1, 1, 1, 1, 1, 1, 1, ...\n",
      "$ departure_eventsSTRONGBREEZE                  <dbl> 0, 0, 0, 0, 0, 0, 0, ...\n",
      "$ departure_conditionsCLEAR                     <dbl> 0, 0, 1, 1, 0, 0, 0, ...\n",
      "$ departure_conditionsDRIZZLE                   <dbl> 0, 0, 0, 0, 0, 0, 0, ...\n",
      "$ departure_conditionsFOG                       <dbl> 0, 0, 0, 0, 0, 0, 0, ...\n",
      "$ departure_conditionsFOGTHUNDERSTORM           <dbl> 0, 0, 0, 0, 0, 0, 0, ...\n",
      "$ departure_conditionsFUNNELCLOUD               <dbl> 0, 0, 0, 0, 0, 0, 0, ...\n",
      "$ departure_conditionsHAZE                      <dbl> 0, 0, 0, 0, 0, 0, 0, ...\n",
      "$ departure_conditionsHEAVYDRIZZLE              <dbl> 0, 0, 0, 0, 0, 0, 0, ...\n",
      "$ departure_conditionsHEAVYFOG                  <dbl> 0, 0, 0, 0, 0, 0, 0, ...\n",
      "$ departure_conditionsHEAVYRAIN                 <dbl> 0, 0, 0, 0, 0, 0, 0, ...\n",
      "$ departure_conditionsHEAVYRAINSHOWERS          <dbl> 0, 0, 0, 0, 0, 0, 0, ...\n",
      "$ departure_conditionsHEAVYTHUNDERSTORMSANDRAIN <dbl> 0, 0, 0, 0, 0, 0, 0, ...\n",
      "$ departure_conditionsLIGHTDRIZZLE              <dbl> 0, 0, 0, 0, 0, 0, 0, ...\n",
      "$ departure_conditionsLIGHTFOG                  <dbl> 0, 0, 0, 0, 0, 0, 0, ...\n",
      "$ departure_conditionsLIGHTRAIN                 <dbl> 0, 0, 0, 0, 0, 0, 0, ...\n",
      "$ departure_conditionsLIGHTRAINSHOWERS          <dbl> 0, 0, 0, 0, 0, 0, 0, ...\n",
      "$ departure_conditionsLIGHTTHUNDERSTORM         <dbl> 0, 0, 0, 0, 0, 0, 0, ...\n",
      "$ departure_conditionsLIGHTTHUNDERSTORMSANDRAIN <dbl> 0, 0, 0, 0, 0, 0, 0, ...\n",
      "$ departure_conditionsMIST                      <dbl> 0, 0, 0, 0, 0, 0, 0, ...\n",
      "$ departure_conditionsMOSTLYCLOUDY              <dbl> 0, 0, 0, 0, 0, 1, 1, ...\n",
      "$ departure_conditionsNONE                      <dbl> 0, 0, 0, 0, 0, 0, 0, ...\n",
      "$ departure_conditionsOVERCAST                  <dbl> 0, 0, 0, 0, 0, 0, 0, ...\n",
      "$ departure_conditionsPARTIALFOG                <dbl> 0, 0, 0, 0, 0, 0, 0, ...\n",
      "$ departure_conditionsPARTLYCLOUDY              <dbl> 0, 0, 0, 0, 0, 0, 0, ...\n",
      "$ departure_conditionsPATCHESOFFOG              <dbl> 0, 0, 0, 0, 0, 0, 0, ...\n",
      "$ departure_conditionsRAIN                      <dbl> 0, 1, 0, 0, 0, 0, 0, ...\n",
      "$ departure_conditionsRAINSHOWERS               <dbl> 0, 0, 0, 0, 0, 0, 0, ...\n",
      "$ departure_conditionsRAINTHUNDERSTORM          <dbl> 0, 0, 0, 0, 0, 0, 0, ...\n",
      "$ departure_conditionsSAND                      <dbl> 0, 0, 0, 0, 0, 0, 0, ...\n",
      "$ departure_conditionsSANDSTORM                 <dbl> 0, 0, 0, 0, 0, 0, 0, ...\n",
      "$ departure_conditionsSCATTEREDCLOUDS           <dbl> 1, 0, 0, 0, 1, 0, 0, ...\n",
      "$ departure_conditionsSHALLOWFOG                <dbl> 0, 0, 0, 0, 0, 0, 0, ...\n",
      "$ departure_conditionsSMOKE                     <dbl> 0, 0, 0, 0, 0, 0, 0, ...\n",
      "$ departure_conditionsTHUNDERSTORM              <dbl> 0, 0, 0, 0, 0, 0, 0, ...\n",
      "$ departure_conditionsTHUNDERSTORMSANDRAIN      <dbl> 0, 0, 0, 0, 0, 0, 0, ...\n",
      "$ departure_conditionsTHUNDERSTORMSWITHHAIL     <dbl> 0, 0, 0, 0, 0, 0, 0, ...\n",
      "$ departure_conditionsVOLCANICASH               <dbl> 0, 0, 0, 0, 0, 0, 0, ...\n",
      "$ departure_conditionsWIDESPREADDUST            <dbl> 0, 0, 0, 0, 0, 0, 0, ...\n",
      "$ airlineAZU                                    <dbl> 1, 0, 1, 0, 0, 0, 0, ...\n",
      "$ airlineFYW                                    <dbl> 0, 0, 0, 0, 0, 0, 0, ...\n",
      "$ airlineGLO                                    <dbl> 0, 1, 0, 1, 0, 0, 0, ...\n",
      "$ airlineONE                                    <dbl> 0, 0, 0, 0, 0, 1, 0, ...\n",
      "$ airlinePAM                                    <dbl> 0, 0, 0, 0, 0, 0, 0, ...\n",
      "$ airlinePTB                                    <dbl> 0, 0, 0, 0, 0, 0, 0, ...\n",
      "$ airlineRIO                                    <dbl> 0, 0, 0, 0, 0, 0, 0, ...\n",
      "$ airlineTAM                                    <dbl> 0, 0, 0, 0, 1, 0, 1, ...\n",
      "$ airlineTTL                                    <dbl> 0, 0, 0, 0, 0, 0, 0, ...\n",
      "$ departureSBAR                                 <dbl> 0, 0, 0, 0, 0, 0, 0, ...\n",
      "$ departureSBBE                                 <dbl> 0, 0, 0, 0, 0, 0, 0, ...\n",
      "$ departureSBBH                                 <dbl> 0, 0, 0, 0, 0, 0, 0, ...\n",
      "$ departureSBBR                                 <dbl> 0, 0, 0, 0, 0, 1, 0, ...\n",
      "$ departureSBCA                                 <dbl> 0, 0, 0, 0, 0, 0, 0, ...\n",
      "$ departureSBCF                                 <dbl> 0, 0, 0, 0, 0, 0, 0, ...\n",
      "$ departureSBCG                                 <dbl> 0, 0, 0, 0, 0, 0, 0, ...\n",
      "$ departureSBCH                                 <dbl> 0, 0, 0, 0, 0, 0, 0, ...\n",
      "$ departureSBCT                                 <dbl> 0, 0, 0, 0, 0, 0, 0, ...\n",
      "$ departureSBCY                                 <dbl> 0, 0, 0, 0, 0, 0, 0, ...\n",
      "$ departureSBDN                                 <dbl> 0, 0, 0, 0, 0, 0, 0, ...\n",
      "$ departureSBEG                                 <dbl> 0, 0, 0, 0, 0, 0, 0, ...\n",
      "$ departureSBFI                                 <dbl> 0, 0, 0, 0, 0, 0, 0, ...\n",
      "$ departureSBFL                                 <dbl> 0, 0, 0, 0, 0, 0, 0, ...\n",
      "$ departureSBFN                                 <dbl> 0, 0, 0, 0, 0, 0, 0, ...\n",
      "$ departureSBFZ                                 <dbl> 0, 0, 0, 0, 0, 0, 0, ...\n",
      "$ departureSBGL                                 <dbl> 0, 1, 0, 0, 0, 0, 0, ...\n",
      "$ departureSBGO                                 <dbl> 0, 0, 0, 0, 0, 0, 0, ...\n",
      "$ departureSBGR                                 <dbl> 0, 0, 0, 1, 1, 0, 0, ...\n",
      "$ departureSBHT                                 <dbl> 0, 0, 0, 0, 0, 0, 0, ...\n",
      "$ departureSBIL                                 <dbl> 0, 0, 0, 0, 0, 0, 0, ...\n",
      "$ departureSBIP                                 <dbl> 0, 0, 0, 0, 0, 0, 0, ...\n",
      "$ departureSBJP                                 <dbl> 0, 0, 0, 0, 0, 0, 0, ...\n",
      "$ departureSBJU                                 <dbl> 0, 0, 0, 0, 0, 0, 0, ...\n",
      "$ departureSBJV                                 <dbl> 0, 0, 0, 0, 0, 0, 0, ...\n",
      "$ departureSBKP                                 <dbl> 0, 0, 1, 0, 0, 0, 0, ...\n",
      "$ departureSBLO                                 <dbl> 0, 0, 0, 0, 0, 0, 0, ...\n",
      "$ departureSBMA                                 <dbl> 0, 0, 0, 0, 0, 0, 0, ...\n",
      "$ departureSBMG                                 <dbl> 0, 0, 0, 0, 0, 0, 0, ...\n",
      "$ departureSBMK                                 <dbl> 0, 0, 0, 0, 0, 0, 0, ...\n",
      "$ departureSBMO                                 <dbl> 1, 0, 0, 0, 0, 0, 0, ...\n",
      "$ departureSBMQ                                 <dbl> 0, 0, 0, 0, 0, 0, 0, ...\n",
      "$ departureSBNF                                 <dbl> 0, 0, 0, 0, 0, 0, 0, ...\n",
      "$ departureSBPA                                 <dbl> 0, 0, 0, 0, 0, 0, 0, ...\n",
      "$ departureSBPJ                                 <dbl> 0, 0, 0, 0, 0, 0, 0, ...\n",
      "$ departureSBPL                                 <dbl> 0, 0, 0, 0, 0, 0, 0, ...\n",
      "$ departureSBPS                                 <dbl> 0, 0, 0, 0, 0, 0, 0, ...\n",
      "$ departureSBPV                                 <dbl> 0, 0, 0, 0, 0, 0, 0, ...\n",
      "$ departureSBQV                                 <dbl> 0, 0, 0, 0, 0, 0, 0, ...\n",
      "$ departureSBRB                                 <dbl> 0, 0, 0, 0, 0, 0, 0, ...\n",
      "$ departureSBRF                                 <dbl> 0, 0, 0, 0, 0, 0, 1, ...\n",
      "$ departureSBRJ                                 <dbl> 0, 0, 0, 0, 0, 0, 0, ...\n",
      "$ departureSBRP                                 <dbl> 0, 0, 0, 0, 0, 0, 0, ...\n",
      "$ departureSBSG                                 <dbl> 0, 0, 0, 0, 0, 0, 0, ...\n",
      "$ departureSBSL                                 <dbl> 0, 0, 0, 0, 0, 0, 0, ...\n",
      "$ departureSBSN                                 <dbl> 0, 0, 0, 0, 0, 0, 0, ...\n",
      "$ departureSBSP                                 <dbl> 0, 0, 0, 0, 0, 0, 0, ...\n",
      "$ departureSBSR                                 <dbl> 0, 0, 0, 0, 0, 0, 0, ...\n",
      "$ departureSBSV                                 <dbl> 0, 0, 0, 0, 0, 0, 0, ...\n",
      "$ departureSBTE                                 <dbl> 0, 0, 0, 0, 0, 0, 0, ...\n",
      "$ departureSBUL                                 <dbl> 0, 0, 0, 0, 0, 0, 0, ...\n",
      "$ departureSBVT                                 <dbl> 0, 0, 0, 0, 0, 0, 0, ...\n",
      "$ arrivalSBAR                                   <dbl> 1, 1, 1, 1, 1, 1, 1, ...\n",
      "$ arrivalSBBE                                   <dbl> 0, 0, 0, 0, 0, 0, 0, ...\n",
      "$ arrivalSBBH                                   <dbl> 0, 0, 0, 0, 0, 0, 0, ...\n",
      "$ arrivalSBBR                                   <dbl> 0, 0, 0, 0, 0, 0, 0, ...\n",
      "$ arrivalSBCA                                   <dbl> 0, 0, 0, 0, 0, 0, 0, ...\n",
      "$ arrivalSBCF                                   <dbl> 0, 0, 0, 0, 0, 0, 0, ...\n",
      "$ arrivalSBCG                                   <dbl> 0, 0, 0, 0, 0, 0, 0, ...\n",
      "$ arrivalSBCH                                   <dbl> 0, 0, 0, 0, 0, 0, 0, ...\n",
      "$ arrivalSBCT                                   <dbl> 0, 0, 0, 0, 0, 0, 0, ...\n",
      "$ arrivalSBCY                                   <dbl> 0, 0, 0, 0, 0, 0, 0, ...\n",
      "$ arrivalSBDN                                   <dbl> 0, 0, 0, 0, 0, 0, 0, ...\n",
      "$ arrivalSBEG                                   <dbl> 0, 0, 0, 0, 0, 0, 0, ...\n",
      "$ arrivalSBFI                                   <dbl> 0, 0, 0, 0, 0, 0, 0, ...\n",
      "$ arrivalSBFL                                   <dbl> 0, 0, 0, 0, 0, 0, 0, ...\n",
      "$ arrivalSBFN                                   <dbl> 0, 0, 0, 0, 0, 0, 0, ...\n",
      "$ arrivalSBFZ                                   <dbl> 0, 0, 0, 0, 0, 0, 0, ...\n",
      "$ arrivalSBGL                                   <dbl> 0, 0, 0, 0, 0, 0, 0, ...\n",
      "$ arrivalSBGO                                   <dbl> 0, 0, 0, 0, 0, 0, 0, ...\n",
      "$ arrivalSBGR                                   <dbl> 0, 0, 0, 0, 0, 0, 0, ...\n",
      "$ arrivalSBHT                                   <dbl> 0, 0, 0, 0, 0, 0, 0, ...\n",
      "$ arrivalSBIL                                   <dbl> 0, 0, 0, 0, 0, 0, 0, ...\n",
      "$ arrivalSBIP                                   <dbl> 0, 0, 0, 0, 0, 0, 0, ...\n",
      "$ arrivalSBJP                                   <dbl> 0, 0, 0, 0, 0, 0, 0, ...\n",
      "$ arrivalSBJU                                   <dbl> 0, 0, 0, 0, 0, 0, 0, ...\n",
      "$ arrivalSBJV                                   <dbl> 0, 0, 0, 0, 0, 0, 0, ...\n",
      "$ arrivalSBKP                                   <dbl> 0, 0, 0, 0, 0, 0, 0, ...\n",
      "$ arrivalSBLO                                   <dbl> 0, 0, 0, 0, 0, 0, 0, ...\n",
      "$ arrivalSBMA                                   <dbl> 0, 0, 0, 0, 0, 0, 0, ...\n",
      "$ arrivalSBMG                                   <dbl> 0, 0, 0, 0, 0, 0, 0, ...\n",
      "$ arrivalSBMK                                   <dbl> 0, 0, 0, 0, 0, 0, 0, ...\n",
      "$ arrivalSBMO                                   <dbl> 0, 0, 0, 0, 0, 0, 0, ...\n",
      "$ arrivalSBMQ                                   <dbl> 0, 0, 0, 0, 0, 0, 0, ...\n",
      "$ arrivalSBNF                                   <dbl> 0, 0, 0, 0, 0, 0, 0, ...\n",
      "$ arrivalSBPA                                   <dbl> 0, 0, 0, 0, 0, 0, 0, ...\n",
      "$ arrivalSBPJ                                   <dbl> 0, 0, 0, 0, 0, 0, 0, ...\n",
      "$ arrivalSBPL                                   <dbl> 0, 0, 0, 0, 0, 0, 0, ...\n",
      "$ arrivalSBPS                                   <dbl> 0, 0, 0, 0, 0, 0, 0, ...\n",
      "$ arrivalSBPV                                   <dbl> 0, 0, 0, 0, 0, 0, 0, ...\n",
      "$ arrivalSBQV                                   <dbl> 0, 0, 0, 0, 0, 0, 0, ...\n",
      "$ arrivalSBRB                                   <dbl> 0, 0, 0, 0, 0, 0, 0, ...\n",
      "$ arrivalSBRF                                   <dbl> 0, 0, 0, 0, 0, 0, 0, ...\n",
      "$ arrivalSBRJ                                   <dbl> 0, 0, 0, 0, 0, 0, 0, ...\n",
      "$ arrivalSBRP                                   <dbl> 0, 0, 0, 0, 0, 0, 0, ...\n",
      "$ arrivalSBSG                                   <dbl> 0, 0, 0, 0, 0, 0, 0, ...\n",
      "$ arrivalSBSL                                   <dbl> 0, 0, 0, 0, 0, 0, 0, ...\n",
      "$ arrivalSBSN                                   <dbl> 0, 0, 0, 0, 0, 0, 0, ...\n",
      "$ arrivalSBSP                                   <dbl> 0, 0, 0, 0, 0, 0, 0, ...\n",
      "$ arrivalSBSR                                   <dbl> 0, 0, 0, 0, 0, 0, 0, ...\n",
      "$ arrivalSBSV                                   <dbl> 0, 0, 0, 0, 0, 0, 0, ...\n",
      "$ arrivalSBTE                                   <dbl> 0, 0, 0, 0, 0, 0, 0, ...\n",
      "$ arrivalSBUL                                   <dbl> 0, 0, 0, 0, 0, 0, 0, ...\n",
      "$ arrivalSBVT                                   <dbl> 0, 0, 0, 0, 0, 0, 0, ...\n"
     ]
    }
   ],
   "source": [
    "glimpse(transform_result$vra_wu)"
   ]
  },
  {
   "cell_type": "code",
   "execution_count": null,
   "metadata": {
    "collapsed": true
   },
   "outputs": [],
   "source": []
  },
  {
   "cell_type": "markdown",
   "metadata": {},
   "source": [
    "<h4>Transformed Data Dictionary</h4>"
   ]
  },
  {
   "cell_type": "markdown",
   "metadata": {},
   "source": [
    "<style type=\"text/css\">\n",
    ".tg  {border-collapse:collapse;border-spacing:0;}\n",
    ".tg td{font-family:Arial, sans-serif;font-size:14px;padding:10px 5px;border-style:solid;border-width:1px;overflow:hidden;word-break:normal;border-color:black;}\n",
    ".tg th{font-family:Arial, sans-serif;font-size:14px;font-weight:normal;padding:10px 5px;border-style:solid;border-width:1px;overflow:hidden;word-break:normal;border-color:black;}\n",
    ".tg .tg-c3ow{border-color:inherit;text-align:center;vertical-align:top}\n",
    ".tg .tg-0pky{border-color:inherit;text-align:left;vertical-align:top}\n",
    "</style>\n",
    "<table class=\"tg\">\n",
    "  <tr>\n",
    "    <th class=\"tg-c3ow\">ID</th>\n",
    "    <th class=\"tg-c3ow\">Description</th>\n",
    "    <th class=\"tg-c3ow\">Attributes</th>\n",
    "    <th class=\"tg-c3ow\">Type</th>\n",
    "  </tr>\n",
    "  <tr>\n",
    "    <td class=\"tg-0pky\">0</td>\n",
    "    <td class=\"tg-0pky\">remove</td>\n",
    "    <td class=\"tg-0pky\">flight;departure_expect;arrival_expect</td>\n",
    "    <td class=\"tg-0pky\">Factor;<br>Datetime (POSIXct);<br>Datetime (POSIXct)</td>\n",
    "  </tr>\n",
    "  <tr>\n",
    "    <td class=\"tg-0pky\">1</td>\n",
    "    <td class=\"tg-0pky\">basic</td>\n",
    "    <td class=\"tg-0pky\">airline;departure;arrival;</td>\n",
    "    <td class=\"tg-0pky\">Factor</td>\n",
    "  </tr>\n",
    "  <tr>\n",
    "    <td class=\"tg-0pky\">2</td>\n",
    "    <td class=\"tg-0pky\">CH</td>\n",
    "    <td class=\"tg-0pky\">departure_year;departure_month;<br> departure_day;departure_hour</td>\n",
    "    <td class=\"tg-0pky\">Numeric</td>\n",
    "  </tr>\n",
    "  <tr>\n",
    "    <td class=\"tg-0pky\">3</td>\n",
    "    <td class=\"tg-0pky\">bin</td>\n",
    "    <td class=\"tg-0pky\">departure_hour_bin</td>\n",
    "    <td class=\"tg-0pky\">Numeric</td>\n",
    "  </tr>\n",
    "  <tr>\n",
    "    <td class=\"tg-0pky\">4</td>\n",
    "    <td class=\"tg-0pky\">original</td>\n",
    "    <td class=\"tg-0pky\">departure_temperature;departure_dew_point;<br>departure_humidity;departure_pressure;<br>departure_visibility</td>\n",
    "    <td class=\"tg-0pky\">Numeric</td>\n",
    "  </tr>\n",
    "  <tr>\n",
    "    <td class=\"tg-0pky\">5</td>\n",
    "    <td class=\"tg-0pky\">bin</td>\n",
    "    <td class=\"tg-0pky\">departure_temperature_bin;departure_dew_point_bin;<br>departure_humidity_bin;departure_pressure_bin; <br>departure_visibility_bin</td>\n",
    "    <td class=\"tg-0pky\">Numeric</td>\n",
    "  </tr>\n",
    "  <tr>\n",
    "    <td class=\"tg-0pky\">6</td>\n",
    "    <td class=\"tg-0pky\">original</td>\n",
    "    <td class=\"tg-0pky\">departure_events</td>\n",
    "    <td class=\"tg-0pky\">Factor</td>\n",
    "  </tr>\n",
    "  <tr>\n",
    "    <td class=\"tg-0pky\">7</td>\n",
    "    <td class=\"tg-0pky\">CM</td>\n",
    "    <td class=\"tg-0pky\">departure_events</td>\n",
    "    <td class=\"tg-0pky\">Numeric</td>\n",
    "  </tr>\n",
    "  <tr>\n",
    "    <td class=\"tg-0pky\">8</td>\n",
    "    <td class=\"tg-0pky\">original</td>\n",
    "    <td class=\"tg-0pky\">departure_conditions</td>\n",
    "    <td class=\"tg-0pky\">Factor</td>\n",
    "  </tr>\n",
    "  <tr>\n",
    "    <td class=\"tg-0pky\">9</td>\n",
    "    <td class=\"tg-0pky\">CM</td>\n",
    "    <td class=\"tg-0pky\">departure_conditions</td>\n",
    "    <td class=\"tg-0pky\">Numeric</td>\n",
    "  </tr>\n",
    "  <tr>\n",
    "    <td class=\"tg-0pky\">10</td>\n",
    "    <td class=\"tg-0pky\">Target</td>\n",
    "    <td class=\"tg-0pky\">delayed</td>\n",
    "    <td class=\"tg-0pky\">Factor</td>\n",
    "  </tr>\n",
    "  <tr>\n",
    "    <td class=\"tg-0pky\">11</td>\n",
    "    <td class=\"tg-0pky\">CM</td>\n",
    "    <td class=\"tg-0pky\">airline</td>\n",
    "    <td class=\"tg-0pky\">Numeric</td>\n",
    "  </tr>\n",
    "  <tr>\n",
    "    <td class=\"tg-0pky\">12</td>\n",
    "    <td class=\"tg-0pky\">CH</td>\n",
    "    <td class=\"tg-0pky\">departure_time</td>\n",
    "    <td class=\"tg-0pky\">Time(ITime)</td>\n",
    "  </tr>\n",
    "  <tr>\n",
    "    <td class=\"tg-0pky\">13</td>\n",
    "    <td class=\"tg-0pky\">CM</td>\n",
    "    <td class=\"tg-0pky\">departure</td>\n",
    "    <td class=\"tg-0pky\">Numeric</td>\n",
    "  </tr>\n",
    "  <tr>\n",
    "    <td class=\"tg-0pky\">14</td>\n",
    "    <td class=\"tg-0pky\">CM</td>\n",
    "    <td class=\"tg-0pky\">arrival</td>\n",
    "    <td class=\"tg-0pky\">Numeric</td>\n",
    "  </tr>\n",
    "  <tr>\n",
    "    <td class=\"tg-0pky\">15</td>\n",
    "    <td class=\"tg-0pky\">CH</td>\n",
    "    <td class=\"tg-0pky\">departure_weekday</td>\n",
    "    <td class=\"tg-0pky\">Numeric</td>\n",
    "  </tr>\n",
    "  <tr>\n",
    "    <td class=\"tg-0pky\">99</td>\n",
    "    <td class=\"tg-0pky\">original</td>\n",
    "    <td class=\"tg-0pky\">departure_time_original</td>\n",
    "    <td class=\"tg-0pky\">Datetime (POSIXct)</td>\n",
    "  </tr>\n",
    "</table>"
   ]
  },
  {
   "cell_type": "code",
   "execution_count": null,
   "metadata": {
    "collapsed": true
   },
   "outputs": [],
   "source": []
  },
  {
   "cell_type": "code",
   "execution_count": null,
   "metadata": {
    "collapsed": true
   },
   "outputs": [],
   "source": []
  },
  {
   "cell_type": "markdown",
   "metadata": {},
   "source": [
    "<h3>Discretization</h3>\n",
    "\n",
    "#Departure Temperature\n",
    "  transf$dt <- binning.opt(vra_wu$departure_temperature, binning=binning.interval)\n",
    "  vra_wu$departure_temperature_bin <- transf$dt$bins_factor\n",
    "  "
   ]
  },
  {
   "cell_type": "code",
   "execution_count": 13,
   "metadata": {},
   "outputs": [
    {
     "data": {
      "text/html": [
       "<table>\n",
       "<thead><tr><th scope=col>departure_temperature</th><th scope=col>departure_temperature_bin</th></tr></thead>\n",
       "<tbody>\n",
       "\t<tr><td>24</td><td>4 </td></tr>\n",
       "\t<tr><td>25</td><td>4 </td></tr>\n",
       "\t<tr><td>25</td><td>4 </td></tr>\n",
       "\t<tr><td>28</td><td>4 </td></tr>\n",
       "\t<tr><td>29</td><td>5 </td></tr>\n",
       "</tbody>\n",
       "</table>\n"
      ],
      "text/latex": [
       "\\begin{tabular}{r|ll}\n",
       " departure\\_temperature & departure\\_temperature\\_bin\\\\\n",
       "\\hline\n",
       "\t 24 & 4 \\\\\n",
       "\t 25 & 4 \\\\\n",
       "\t 25 & 4 \\\\\n",
       "\t 28 & 4 \\\\\n",
       "\t 29 & 5 \\\\\n",
       "\\end{tabular}\n"
      ],
      "text/markdown": [
       "\n",
       "departure_temperature | departure_temperature_bin | \n",
       "|---|---|---|---|---|\n",
       "| 24 | 4  | \n",
       "| 25 | 4  | \n",
       "| 25 | 4  | \n",
       "| 28 | 4  | \n",
       "| 29 | 5  | \n",
       "\n",
       "\n"
      ],
      "text/plain": [
       "  departure_temperature departure_temperature_bin\n",
       "1 24                    4                        \n",
       "2 25                    4                        \n",
       "3 25                    4                        \n",
       "4 28                    4                        \n",
       "5 29                    5                        "
      ]
     },
     "metadata": {},
     "output_type": "display_data"
    }
   ],
   "source": [
    "head(transform_result$vra_wu[c(\"departure_temperature\",\"departure_temperature_bin\")],5)\n"
   ]
  },
  {
   "cell_type": "markdown",
   "metadata": {},
   "source": [
    "<h3>Categorical Mapping</h3>\n",
    "\n",
    "#Events:\n",
    "  vra_wu=dt.categ_mapping(vra_wu,\"departure_events\")"
   ]
  },
  {
   "cell_type": "code",
   "execution_count": 23,
   "metadata": {},
   "outputs": [
    {
     "data": {
      "text/html": [
       "<table>\n",
       "<thead><tr><th scope=col>departure_events</th><th scope=col>departure_eventsFRESHBREEZE</th><th scope=col>departure_eventsGENTLEBREEZE</th><th scope=col>departure_eventsLIGHTAIR</th><th scope=col>departure_eventsLIGHTBREEZE</th><th scope=col>departure_eventsMODERATEBREEZE</th><th scope=col>departure_eventsNONE</th><th scope=col>departure_eventsSTRONGBREEZE</th></tr></thead>\n",
       "<tbody>\n",
       "\t<tr><td>NONE</td><td>0   </td><td>0   </td><td>0   </td><td>0   </td><td>0   </td><td>1   </td><td>0   </td></tr>\n",
       "\t<tr><td>NONE</td><td>0   </td><td>0   </td><td>0   </td><td>0   </td><td>0   </td><td>1   </td><td>0   </td></tr>\n",
       "\t<tr><td>NONE</td><td>0   </td><td>0   </td><td>0   </td><td>0   </td><td>0   </td><td>1   </td><td>0   </td></tr>\n",
       "\t<tr><td>NONE</td><td>0   </td><td>0   </td><td>0   </td><td>0   </td><td>0   </td><td>1   </td><td>0   </td></tr>\n",
       "\t<tr><td>NONE</td><td>0   </td><td>0   </td><td>0   </td><td>0   </td><td>0   </td><td>1   </td><td>0   </td></tr>\n",
       "</tbody>\n",
       "</table>\n"
      ],
      "text/latex": [
       "\\begin{tabular}{r|llllllll}\n",
       " departure\\_events & departure\\_eventsFRESHBREEZE & departure\\_eventsGENTLEBREEZE & departure\\_eventsLIGHTAIR & departure\\_eventsLIGHTBREEZE & departure\\_eventsMODERATEBREEZE & departure\\_eventsNONE & departure\\_eventsSTRONGBREEZE\\\\\n",
       "\\hline\n",
       "\t NONE & 0    & 0    & 0    & 0    & 0    & 1    & 0   \\\\\n",
       "\t NONE & 0    & 0    & 0    & 0    & 0    & 1    & 0   \\\\\n",
       "\t NONE & 0    & 0    & 0    & 0    & 0    & 1    & 0   \\\\\n",
       "\t NONE & 0    & 0    & 0    & 0    & 0    & 1    & 0   \\\\\n",
       "\t NONE & 0    & 0    & 0    & 0    & 0    & 1    & 0   \\\\\n",
       "\\end{tabular}\n"
      ],
      "text/markdown": [
       "\n",
       "departure_events | departure_eventsFRESHBREEZE | departure_eventsGENTLEBREEZE | departure_eventsLIGHTAIR | departure_eventsLIGHTBREEZE | departure_eventsMODERATEBREEZE | departure_eventsNONE | departure_eventsSTRONGBREEZE | \n",
       "|---|---|---|---|---|\n",
       "| NONE | 0    | 0    | 0    | 0    | 0    | 1    | 0    | \n",
       "| NONE | 0    | 0    | 0    | 0    | 0    | 1    | 0    | \n",
       "| NONE | 0    | 0    | 0    | 0    | 0    | 1    | 0    | \n",
       "| NONE | 0    | 0    | 0    | 0    | 0    | 1    | 0    | \n",
       "| NONE | 0    | 0    | 0    | 0    | 0    | 1    | 0    | \n",
       "\n",
       "\n"
      ],
      "text/plain": [
       "  departure_events departure_eventsFRESHBREEZE departure_eventsGENTLEBREEZE\n",
       "1 NONE             0                           0                           \n",
       "2 NONE             0                           0                           \n",
       "3 NONE             0                           0                           \n",
       "4 NONE             0                           0                           \n",
       "5 NONE             0                           0                           \n",
       "  departure_eventsLIGHTAIR departure_eventsLIGHTBREEZE\n",
       "1 0                        0                          \n",
       "2 0                        0                          \n",
       "3 0                        0                          \n",
       "4 0                        0                          \n",
       "5 0                        0                          \n",
       "  departure_eventsMODERATEBREEZE departure_eventsNONE\n",
       "1 0                              1                   \n",
       "2 0                              1                   \n",
       "3 0                              1                   \n",
       "4 0                              1                   \n",
       "5 0                              1                   \n",
       "  departure_eventsSTRONGBREEZE\n",
       "1 0                           \n",
       "2 0                           \n",
       "3 0                           \n",
       "4 0                           \n",
       "5 0                           "
      ]
     },
     "metadata": {},
     "output_type": "display_data"
    }
   ],
   "source": [
    "head(transform_result$vra_wu[c(\"departure_events\",\"departure_eventsFRESHBREEZE\",\"departure_eventsGENTLEBREEZE\",\"departure_eventsLIGHTAIR\",\"departure_eventsLIGHTBREEZE\",\"departure_eventsMODERATEBREEZE\",\"departure_eventsNONE\",\"departure_eventsSTRONGBREEZE\" )],5)"
   ]
  },
  {
   "cell_type": "markdown",
   "metadata": {
    "collapsed": true
   },
   "source": [
    "<h3>Conceptual Hierarchy</h3>\n",
    "\n",
    " vra_wu$departure_expect <- as.POSIXct(vra_wu$depart_expect)\n",
    "  vra_wu$departure_time <- as.POSIXct(vra_wu$depart)\n",
    "  vra_wu$departure_year <- year(vra_wu$departure_expect)\n",
    "  vra_wu$departure_month <- month(vra_wu$departure_expect)\n",
    "  vra_wu$departure_hour <- hour(vra_wu$departure_expect)\n",
    "  vra_wu$departure_day <- day(vra_wu$departure_expect)\n",
    "  vra_wu$departure_weekday = wday(vra_wu$departure_expect)"
   ]
  },
  {
   "cell_type": "code",
   "execution_count": 28,
   "metadata": {},
   "outputs": [
    {
     "data": {
      "text/html": [
       "<table>\n",
       "<thead><tr><th scope=col>departure_expect</th><th scope=col>departure_year</th><th scope=col>departure_month</th><th scope=col>departure_weekday</th><th scope=col>departure_day</th><th scope=col>departure_hour</th></tr></thead>\n",
       "<tbody>\n",
       "\t<tr><td>2015-01-01 02:27:00</td><td>2015               </td><td>1                  </td><td>5                  </td><td>1                  </td><td> 2                 </td></tr>\n",
       "\t<tr><td>2015-01-01 07:41:00</td><td>2015               </td><td>1                  </td><td>5                  </td><td>1                  </td><td> 7                 </td></tr>\n",
       "\t<tr><td>2015-01-01 09:37:00</td><td>2015               </td><td>1                  </td><td>5                  </td><td>1                  </td><td> 9                 </td></tr>\n",
       "\t<tr><td>2015-01-01 10:35:00</td><td>2015               </td><td>1                  </td><td>5                  </td><td>1                  </td><td>10                 </td></tr>\n",
       "\t<tr><td>2015-01-01 11:05:00</td><td>2015               </td><td>1                  </td><td>5                  </td><td>1                  </td><td>11                 </td></tr>\n",
       "</tbody>\n",
       "</table>\n"
      ],
      "text/latex": [
       "\\begin{tabular}{r|llllll}\n",
       " departure\\_expect & departure\\_year & departure\\_month & departure\\_weekday & departure\\_day & departure\\_hour\\\\\n",
       "\\hline\n",
       "\t 2015-01-01 02:27:00 & 2015                & 1                   & 5                   & 1                   &  2                 \\\\\n",
       "\t 2015-01-01 07:41:00 & 2015                & 1                   & 5                   & 1                   &  7                 \\\\\n",
       "\t 2015-01-01 09:37:00 & 2015                & 1                   & 5                   & 1                   &  9                 \\\\\n",
       "\t 2015-01-01 10:35:00 & 2015                & 1                   & 5                   & 1                   & 10                 \\\\\n",
       "\t 2015-01-01 11:05:00 & 2015                & 1                   & 5                   & 1                   & 11                 \\\\\n",
       "\\end{tabular}\n"
      ],
      "text/markdown": [
       "\n",
       "departure_expect | departure_year | departure_month | departure_weekday | departure_day | departure_hour | \n",
       "|---|---|---|---|---|\n",
       "| 2015-01-01 02:27:00 | 2015                | 1                   | 5                   | 1                   |  2                  | \n",
       "| 2015-01-01 07:41:00 | 2015                | 1                   | 5                   | 1                   |  7                  | \n",
       "| 2015-01-01 09:37:00 | 2015                | 1                   | 5                   | 1                   |  9                  | \n",
       "| 2015-01-01 10:35:00 | 2015                | 1                   | 5                   | 1                   | 10                  | \n",
       "| 2015-01-01 11:05:00 | 2015                | 1                   | 5                   | 1                   | 11                  | \n",
       "\n",
       "\n"
      ],
      "text/plain": [
       "  departure_expect    departure_year departure_month departure_weekday\n",
       "1 2015-01-01 02:27:00 2015           1               5                \n",
       "2 2015-01-01 07:41:00 2015           1               5                \n",
       "3 2015-01-01 09:37:00 2015           1               5                \n",
       "4 2015-01-01 10:35:00 2015           1               5                \n",
       "5 2015-01-01 11:05:00 2015           1               5                \n",
       "  departure_day departure_hour\n",
       "1 1              2            \n",
       "2 1              7            \n",
       "3 1              9            \n",
       "4 1             10            \n",
       "5 1             11            "
      ]
     },
     "metadata": {},
     "output_type": "display_data"
    }
   ],
   "source": [
    "head(transform_result$vra_wu[c(\"departure_expect\",\"departure_year\",\"departure_month\",\"departure_weekday\",\"departure_day\",\"departure_hour\")],5)"
   ]
  },
  {
   "cell_type": "markdown",
   "metadata": {},
   "source": [
    "<h3>Data Sampling</h3>\n",
    "sample <- sample.stratified(data=vra_wu, clabel=\"delayed\")  "
   ]
  },
  {
   "cell_type": "code",
   "execution_count": 53,
   "metadata": {},
   "outputs": [
    {
     "data": {
      "text/html": [
       "1322353"
      ],
      "text/latex": [
       "1322353"
      ],
      "text/markdown": [
       "1322353"
      ],
      "text/plain": [
       "[1] 1322353"
      ]
     },
     "metadata": {},
     "output_type": "display_data"
    }
   ],
   "source": [
    "nrow(sample_wn$vra_wu_train)"
   ]
  },
  {
   "cell_type": "code",
   "execution_count": 54,
   "metadata": {},
   "outputs": [
    {
     "data": {
      "text/html": [
       "330588"
      ],
      "text/latex": [
       "330588"
      ],
      "text/markdown": [
       "330588"
      ],
      "text/plain": [
       "[1] 330588"
      ]
     },
     "metadata": {},
     "output_type": "display_data"
    }
   ],
   "source": [
    "nrow(sample_wn$vra_wu_test)"
   ]
  },
  {
   "cell_type": "code",
   "execution_count": 70,
   "metadata": {},
   "outputs": [
    {
     "data": {
      "image/png": "[encoded data removed]",
      "text/plain": [
       "Plot with title \"Data Sampling\""
      ]
     },
     "metadata": {},
     "output_type": "display_data"
    }
   ],
   "source": [
    "# Define cars vector with 5 values\n",
    "train_test <- c(nrow(sample_wn$vra_wu_train), nrow(sample_wn$vra_wu_test))\n",
    "\n",
    "#define colors\n",
    "colors=rainbow(length(train_test))\n",
    "\n",
    "# Calculate the percentage for each \n",
    "# decimal place\n",
    "train_test_labels <- c(\"Train\",\"Test\")\n",
    "\n",
    "# Create a pie chart with defined heading and custom colors\n",
    "# and labels\n",
    "pie(train_test, main=\"Data Sampling\", col=colors, labels=train_test_labels,\n",
    "   cex=0.8)\n"
   ]
  },
  {
   "cell_type": "markdown",
   "metadata": {
    "collapsed": true
   },
   "source": [
    "<h3>Normalization</h3>"
   ]
  },
  {
   "cell_type": "markdown",
   "metadata": {},
   "source": [
    "<h4>Without Normalization</h4>\n",
    "sample_wn"
   ]
  },
  {
   "cell_type": "code",
   "execution_count": 2,
   "metadata": {},
   "outputs": [
    {
     "data": {
      "text/html": [
       "<table>\n",
       "<thead><tr><th scope=col>departure_temperature</th></tr></thead>\n",
       "<tbody>\n",
       "\t<tr><td>24</td></tr>\n",
       "\t<tr><td>25</td></tr>\n",
       "\t<tr><td>25</td></tr>\n",
       "\t<tr><td>28</td></tr>\n",
       "\t<tr><td>29</td></tr>\n",
       "</tbody>\n",
       "</table>\n"
      ],
      "text/latex": [
       "\\begin{tabular}{r|l}\n",
       " departure\\_temperature\\\\\n",
       "\\hline\n",
       "\t 24\\\\\n",
       "\t 25\\\\\n",
       "\t 25\\\\\n",
       "\t 28\\\\\n",
       "\t 29\\\\\n",
       "\\end{tabular}\n"
      ],
      "text/markdown": [
       "\n",
       "departure_temperature | \n",
       "|---|---|---|---|---|\n",
       "| 24 | \n",
       "| 25 | \n",
       "| 25 | \n",
       "| 28 | \n",
       "| 29 | \n",
       "\n",
       "\n"
      ],
      "text/plain": [
       "  departure_temperature\n",
       "1 24                   \n",
       "2 25                   \n",
       "3 25                   \n",
       "4 28                   \n",
       "5 29                   "
      ]
     },
     "metadata": {},
     "output_type": "display_data"
    }
   ],
   "source": [
    "load(\"E:/leonardosm/Documents/Mestrado/Monografia/novo_servidor/Brazilian-Flight-Delay/demonstracao/presentation/dataset/sample_wn.RData\")\n",
    "head(sample_wn$vra_wu_train[\"departure_temperature\"],5)"
   ]
  },
  {
   "cell_type": "markdown",
   "metadata": {},
   "source": [
    "<h4>MinMax</h4>\n",
    "sample_mm"
   ]
  },
  {
   "cell_type": "code",
   "execution_count": 31,
   "metadata": {
    "collapsed": true
   },
   "outputs": [],
   "source": [
    "load(\"E:/leonardosm/Documents/Mestrado/Monografia/novo_servidor/Brazilian-Flight-Delay/demonstracao/presentation/dataset/sample_mm.RData\")"
   ]
  },
  {
   "cell_type": "code",
   "execution_count": 38,
   "metadata": {},
   "outputs": [
    {
     "data": {
      "text/html": [
       "<table>\n",
       "<thead><tr><th></th><th scope=col>departure_temperature</th></tr></thead>\n",
       "<tbody>\n",
       "\t<tr><th scope=row>1</th><td>0.5853659</td></tr>\n",
       "\t<tr><th scope=row>2</th><td>0.6097561</td></tr>\n",
       "\t<tr><th scope=row>3</th><td>0.6097561</td></tr>\n",
       "\t<tr><th scope=row>5</th><td>0.7073171</td></tr>\n",
       "\t<tr><th scope=row>6</th><td>0.7317073</td></tr>\n",
       "</tbody>\n",
       "</table>\n"
      ],
      "text/latex": [
       "\\begin{tabular}{r|l}\n",
       "  & departure\\_temperature\\\\\n",
       "\\hline\n",
       "\t1 & 0.5853659\\\\\n",
       "\t2 & 0.6097561\\\\\n",
       "\t3 & 0.6097561\\\\\n",
       "\t5 & 0.7073171\\\\\n",
       "\t6 & 0.7317073\\\\\n",
       "\\end{tabular}\n"
      ],
      "text/markdown": [
       "\n",
       "| <!--/--> | departure_temperature | \n",
       "|---|---|---|---|---|\n",
       "| 1 | 0.5853659 | \n",
       "| 2 | 0.6097561 | \n",
       "| 3 | 0.6097561 | \n",
       "| 5 | 0.7073171 | \n",
       "| 6 | 0.7317073 | \n",
       "\n",
       "\n"
      ],
      "text/plain": [
       "  departure_temperature\n",
       "1 0.5853659            \n",
       "2 0.6097561            \n",
       "3 0.6097561            \n",
       "5 0.7073171            \n",
       "6 0.7317073            "
      ]
     },
     "metadata": {},
     "output_type": "display_data"
    }
   ],
   "source": [
    "head(sample_mm$vra_wu_train[\"departure_temperature\"],5)"
   ]
  },
  {
   "cell_type": "markdown",
   "metadata": {},
   "source": [
    "<h4>Z-score</h4>\n",
    "sample_zs"
   ]
  },
  {
   "cell_type": "code",
   "execution_count": 39,
   "metadata": {
    "collapsed": true
   },
   "outputs": [],
   "source": [
    "load(\"E:/leonardosm/Documents/Mestrado/Monografia/novo_servidor/Brazilian-Flight-Delay/demonstracao/presentation/dataset/sample_zs.RData\")"
   ]
  },
  {
   "cell_type": "code",
   "execution_count": 40,
   "metadata": {},
   "outputs": [
    {
     "data": {
      "text/html": [
       "<table>\n",
       "<thead><tr><th></th><th scope=col>departure_temperature</th></tr></thead>\n",
       "<tbody>\n",
       "\t<tr><th scope=row>1</th><td>0.1043046</td></tr>\n",
       "\t<tr><th scope=row>2</th><td>0.2818667</td></tr>\n",
       "\t<tr><th scope=row>4</th><td>0.8145532</td></tr>\n",
       "\t<tr><th scope=row>6</th><td>1.1696775</td></tr>\n",
       "\t<tr><th scope=row>9</th><td>2.0574882</td></tr>\n",
       "</tbody>\n",
       "</table>\n"
      ],
      "text/latex": [
       "\\begin{tabular}{r|l}\n",
       "  & departure\\_temperature\\\\\n",
       "\\hline\n",
       "\t1 & 0.1043046\\\\\n",
       "\t2 & 0.2818667\\\\\n",
       "\t4 & 0.8145532\\\\\n",
       "\t6 & 1.1696775\\\\\n",
       "\t9 & 2.0574882\\\\\n",
       "\\end{tabular}\n"
      ],
      "text/markdown": [
       "\n",
       "| <!--/--> | departure_temperature | \n",
       "|---|---|---|---|---|\n",
       "| 1 | 0.1043046 | \n",
       "| 2 | 0.2818667 | \n",
       "| 4 | 0.8145532 | \n",
       "| 6 | 1.1696775 | \n",
       "| 9 | 2.0574882 | \n",
       "\n",
       "\n"
      ],
      "text/plain": [
       "  departure_temperature\n",
       "1 0.1043046            \n",
       "2 0.2818667            \n",
       "4 0.8145532            \n",
       "6 1.1696775            \n",
       "9 2.0574882            "
      ]
     },
     "metadata": {},
     "output_type": "display_data"
    }
   ],
   "source": [
    "head(sample_zs$vra_wu_train[\"departure_temperature\"],5)"
   ]
  },
  {
   "cell_type": "markdown",
   "metadata": {},
   "source": [
    "<h3>Balancing</h3>"
   ]
  },
  {
   "cell_type": "markdown",
   "metadata": {},
   "source": [
    "<h4>Without Balancing</h4>"
   ]
  },
  {
   "cell_type": "code",
   "execution_count": 44,
   "metadata": {},
   "outputs": [
    {
     "data": {
      "text/html": [
       "1322353"
      ],
      "text/latex": [
       "1322353"
      ],
      "text/markdown": [
       "1322353"
      ],
      "text/plain": [
       "[1] 1322353"
      ]
     },
     "metadata": {},
     "output_type": "display_data"
    }
   ],
   "source": [
    "nrow(sample_wn$vra_wu_train)"
   ]
  },
  {
   "cell_type": "markdown",
   "metadata": {},
   "source": [
    "<h4>With Balancing</h4>"
   ]
  },
  {
   "cell_type": "markdown",
   "metadata": {},
   "source": [
    "<h5>Random Subsampling (RS)</h5>"
   ]
  },
  {
   "cell_type": "code",
   "execution_count": 3,
   "metadata": {
    "collapsed": true
   },
   "outputs": [],
   "source": [
    "load(\"E:/leonardosm/Documents/Mestrado/Monografia/novo_servidor/Brazilian-Flight-Delay/demonstracao/presentation/dataset/subsampling_wn.RData\")"
   ]
  },
  {
   "cell_type": "code",
   "execution_count": 48,
   "metadata": {},
   "outputs": [
    {
     "data": {
      "text/html": [
       "378836"
      ],
      "text/latex": [
       "378836"
      ],
      "text/markdown": [
       "378836"
      ],
      "text/plain": [
       "[1] 378836"
      ]
     },
     "metadata": {},
     "output_type": "display_data"
    }
   ],
   "source": [
    "nrow(subsampling_wn$vra_wu_train)"
   ]
  },
  {
   "cell_type": "markdown",
   "metadata": {},
   "source": [
    "<h5>Synthetic Minority Over-sampling Technique (SMOTE)</h5>"
   ]
  },
  {
   "cell_type": "code",
   "execution_count": 4,
   "metadata": {
    "collapsed": true
   },
   "outputs": [],
   "source": [
    "load(\"E:/leonardosm/Documents/Mestrado/Monografia/novo_servidor/Brazilian-Flight-Delay/demonstracao/presentation/dataset/smote_bl_sample_wn.RData\")"
   ]
  },
  {
   "cell_type": "code",
   "execution_count": 6,
   "metadata": {},
   "outputs": [
    {
     "data": {
      "text/html": [
       "2266100"
      ],
      "text/latex": [
       "2266100"
      ],
      "text/markdown": [
       "2266100"
      ],
      "text/plain": [
       "[1] 2266100"
      ]
     },
     "metadata": {},
     "output_type": "display_data"
    }
   ],
   "source": [
    "nrow(smote_bl_sample_wn$vra_wu_train)"
   ]
  },
  {
   "cell_type": "markdown",
   "metadata": {},
   "source": [
    "Counting Delayed or not Delayed Data for each balancing data"
   ]
  },
  {
   "cell_type": "code",
   "execution_count": 32,
   "metadata": {
    "collapsed": true
   },
   "outputs": [],
   "source": [
    " sample_wn_delayed <- table(sample_wn$vra_wu_train$delayed)\n",
    "\n",
    " subsampling_wn_delayed<- table(subsampling_wn$vra_wu_train$delayed)\n",
    "\n",
    " smote_bl_sample_wn_delayed<- table(smote_bl_sample_wn$vra_wu_train$delayed)\n",
    "\n"
   ]
  },
  {
   "cell_type": "code",
   "execution_count": 38,
   "metadata": {
    "scrolled": true
   },
   "outputs": [
    {
     "data": {
      "image/png": "[encoded data removed]",
      "text/plain": [
       "Plot with title \"Data Balancing Numbers Comparison\""
      ]
     },
     "metadata": {},
     "output_type": "display_data"
    }
   ],
   "source": [
    "\n",
    "# Read values from tab-delimited autos.dat \n",
    "autos_data <- matrix( c( sample_wn_delayed[1], sample_wn_delayed[2], nrow(sample_wn$vra_wu_train),\n",
    "                         subsampling_wn_delayed[1], subsampling_wn_delayed[2],nrow(subsampling_wn$vra_wu_train),\n",
    "                         smote_bl_sample_wn_delayed[1], smote_bl_sample_wn_delayed[2],nrow(smote_bl_sample_wn$vra_wu_train)), nrow=3, ncol=3)\n",
    "   \n",
    "colnames(autos_data) <- c(\"Without Balancing\",\"Balancing - RS\",\"Balancing - SMOTE\")\n",
    "\n",
    "# Graph autos with adjacent bars using rainbow colors\n",
    "barplot(as.matrix(autos_data), main=\"Data Balancing Numbers Comparison\", ylab= \"Total\",\n",
    "   beside=TRUE, col=rainbow(3))\n",
    "\n",
    "\n",
    "text(x = as.matrix(autos_data), y = autos_data, label = autos_data, pos = 3, cex = 0.8, col = \"red\")\n",
    "# Place the legend at the top-left corner with no frame  \n",
    "# using rainbow colors\n",
    "legend(\"topleft\", c(\"Without Delay\",\"Delayed\",\"Total\"), cex=0.6, \n",
    "   bty=\"n\", fill=rainbow(3));"
   ]
  },
  {
   "cell_type": "markdown",
   "metadata": {
    "collapsed": true
   },
   "source": [
    "<h3> Feature Selection and Extraction</h3>"
   ]
  },
  {
   "attachments": {
    "image.png": {
     "image/png": "[encoded data removed]"
    }
   },
   "cell_type": "markdown",
   "metadata": {},
   "source": [
    "![image.png](attachment:image.png)"
   ]
  },
  {
   "cell_type": "markdown",
   "metadata": {},
   "source": [
    "<h4>Workflow Detailing</h4>"
   ]
  },
  {
   "cell_type": "markdown",
   "metadata": {},
   "source": [
    " <style type=\"text/css\">\n",
    ".tg  {border-collapse:ollapse;border-spacing:0;}\n",
    ".tg td{font-family:Arial, sans-serif;font-size:14px;padding:10px 5px;border-style:solid;border-width:1px;overflow:hidden;word-break:normal;border-color:black;}\n",
    ".tg th{font-family:Arial, sans-serif;font-size:14px;font-weight:normal;padding:10px 5px;border-style:solid;border-width:1px;overflow:hidden;word-break:normal;border-color:black;}\n",
    ".tg .tg-fymr{font-weight:bold;border-color:inherit;text-align:left;vertical-align:top}\n",
    ".tg .tg-0pky{border-color:inherit;text-align:left;vertical-align:top}\n",
    "</style>\n",
    "<table class=\"tg\">\n",
    "  <tr>\n",
    "    <th class=\"tg-fymr\">Workflow</th>\n",
    "    <th class=\"tg-fymr\">Description</th>\n",
    "    <th class=\"tg-fymr\">ID(Dictionary)</th>\n",
    "  </tr>\n",
    "  <tr>\n",
    "    <td class=\"tg-0pky\">0</td>\n",
    "    <td class=\"tg-0pky\">Attributes[1,99]</td>\n",
    "    <td class=\"tg-0pky\">1,2,99,10</td>\n",
    "  </tr>\n",
    "  <tr>\n",
    "    <td class=\"tg-0pky\">1</td>\n",
    "    <td class=\"tg-0pky\">Attributes[1,2,12]</td>\n",
    "    <td class=\"tg-0pky\">1,2,12,10</td>\n",
    "  </tr>\n",
    "  <tr>\n",
    "    <td class=\"tg-0pky\">2</td>\n",
    "    <td class=\"tg-0pky\">Attributes[1,2,12,15]</td>\n",
    "    <td class=\"tg-0pky\">1,2,12,15,10</td>\n",
    "  </tr>\n",
    "  <tr>\n",
    "    <td class=\"tg-0pky\">3</td>\n",
    "    <td class=\"tg-0pky\">Attributes[1,12]</td>\n",
    "    <td class=\"tg-0pky\">1,12,10</td>\n",
    "  </tr>\n",
    "  <tr>\n",
    "    <td class=\"tg-0pky\">4</td>\n",
    "    <td class=\"tg-0pky\">Attributes[1,2,12] + Conditions[8]</td>\n",
    "    <td class=\"tg-0pky\">1,2,12,8,10</td>\n",
    "  </tr>\n",
    "  <tr>\n",
    "    <td class=\"tg-0pky\">5</td>\n",
    "    <td class=\"tg-0pky\">Attributes[1,2,12] + Conditions[9] (PCA)</td>\n",
    "    <td class=\"tg-0pky\">1,2,12,9,10</td>\n",
    "  </tr>\n",
    "  <tr>\n",
    "    <td class=\"tg-0pky\">6</td>\n",
    "    <td class=\"tg-0pky\">Attributes[1,2,12] + Conditions[9] (PCA+LASSO)</td>\n",
    "    <td class=\"tg-0pky\">1,2,12,9,10</td>\n",
    "  </tr>\n",
    "  <tr>\n",
    "    <td class=\"tg-0pky\">7</td>\n",
    "    <td class=\"tg-0pky\">Attributes[1,2,12] + Conditions[9] (PCA+INFOGAIN)</td>\n",
    "    <td class=\"tg-0pky\">1,2,12,9,10</td>\n",
    "  </tr>\n",
    "  <tr>\n",
    "    <td class=\"tg-0pky\">8</td>\n",
    "    <td class=\"tg-0pky\">Attributes[1,2,12] + Conditions[9] (PCA+CFS)</td>\n",
    "    <td class=\"tg-0pky\">1,2,12,9,10</td>\n",
    "  </tr>\n",
    "  <tr>\n",
    "    <td class=\"tg-0pky\">9</td>\n",
    "    <td class=\"tg-0pky\">Attributes[1,2,12] + Conditions[9] (LASSO)</td>\n",
    "    <td class=\"tg-0pky\">1,2,12,9,10</td>\n",
    "  </tr>\n",
    "  <tr>\n",
    "    <td class=\"tg-0pky\">10</td>\n",
    "    <td class=\"tg-0pky\">Attributes[1,2,12] + Conditions[9] (INFOGAIN)</td>\n",
    "    <td class=\"tg-0pky\">1,2,12,9,10</td>\n",
    "  </tr>\n",
    "  <tr>\n",
    "    <td class=\"tg-0pky\">11</td>\n",
    "    <td class=\"tg-0pky\">Attributes[1,2,12] + Conditions[9] (CFS)</td>\n",
    "    <td class=\"tg-0pky\">1,2,12,9,10</td>\n",
    "  </tr>\n",
    "  <tr>\n",
    "    <td class=\"tg-0pky\">12</td>\n",
    "    <td class=\"tg-0pky\">Attributes[1,2,12] + Events[6]</td>\n",
    "    <td class=\"tg-0pky\">1,2,12,6,10</td>\n",
    "  </tr>\n",
    "  <tr>\n",
    "    <td class=\"tg-0pky\">13</td>\n",
    "    <td class=\"tg-0pky\">Attributes[1,2,12] + Events[7] (PCA+LASSO)</td>\n",
    "    <td class=\"tg-0pky\">1,2,12,7,10</td>\n",
    "  </tr>\n",
    "  <tr>\n",
    "    <td class=\"tg-0pky\">14</td>\n",
    "    <td class=\"tg-0pky\">Attributes[1,2,12]+ Events[7] (CFS)</td>\n",
    "    <td class=\"tg-0pky\">1,2,7,12,10</td>\n",
    "  </tr>\n",
    "  <tr>\n",
    "    <td class=\"tg-0pky\">15</td>\n",
    "    <td class=\"tg-0pky\">Attributes[1,2,12] + Events[7](LASSO)+<br> Conditions[9](CFS)</td>\n",
    "    <td class=\"tg-0pky\">1,2,7,9,12,10</td>\n",
    "  </tr>\n",
    "  <tr>\n",
    "    <td class=\"tg-0pky\">16</td>\n",
    "    <td class=\"tg-0pky\">Attributes[1,2,12] + Events[7](PCA+LASSO)+<br>Conditions[9] (PCA+CFS)</td>\n",
    "    <td class=\"tg-0pky\">1,2,7,9,12,10</td>\n",
    "  </tr>\n",
    "  <tr>\n",
    "    <td class=\"tg-0pky\">17</td>\n",
    "    <td class=\"tg-0pky\">Attributes[1,6,8,99]</td>\n",
    "    <td class=\"tg-0pky\">1,6,8,99,10</td>\n",
    "  </tr>\n",
    "  <tr>\n",
    "    <td class=\"tg-0pky\">18</td>\n",
    "    <td class=\"tg-0pky\">Attributes[2,12]</td>\n",
    "    <td class=\"tg-0pky\">2,12,10</td>\n",
    "  </tr>\n",
    "  <tr>\n",
    "    <td class=\"tg-0pky\">19</td>\n",
    "    <td class=\"tg-0pky\">Attributes[2,12]+ Airlines[11](PCA+INFOGAIN)</td>\n",
    "    <td class=\"tg-0pky\">2,10,11,12</td>\n",
    "  </tr>\n",
    "  <tr>\n",
    "    <td class=\"tg-0pky\">20</td>\n",
    "    <td class=\"tg-0pky\">Attributes[2,12]+ Departure[13](PCA+INFOGAIN)</td>\n",
    "    <td class=\"tg-0pky\">2,12,10,13</td>\n",
    "  </tr>\n",
    "  <tr>\n",
    "    <td class=\"tg-0pky\">21</td>\n",
    "    <td class=\"tg-0pky\">Attributes[2,12]+  Arrival[14](PCA+CFS)</td>\n",
    "    <td class=\"tg-0pky\">2,12,10,14</td>\n",
    "  </tr>\n",
    "  <tr>\n",
    "    <td class=\"tg-0pky\">22</td>\n",
    "    <td class=\"tg-0pky\">Attributes[2,12]+  Airlines[11](PCA+CFS)+<br> Departure[13](PCA+CFS)+Arrival[14](PCA+CFS)</td>\n",
    "    <td class=\"tg-0pky\">2,12,11,13,14,10</td>\n",
    "  </tr>\n",
    "  <tr>\n",
    "    <td class=\"tg-0pky\">23</td>\n",
    "    <td class=\"tg-0pky\">Attributes[2,12]+  Airlines[11](CFS)+Departure[13](CFS)+<br> Arrival[14](CFS)</td>\n",
    "    <td class=\"tg-0pky\">2,12,11,13,14,10</td>\n",
    "  </tr>\n",
    "  <tr>\n",
    "    <td class=\"tg-0pky\">24</td>\n",
    "    <td class=\"tg-0pky\">Attributes[2,12]+  Events[7](PCA+CFS)+<br>Airlines[11](PCA+CFS)+Departure[13](PCA+CFS)+<br>Arrival[14](PCA+CFS)</td>\n",
    "    <td class=\"tg-0pky\">2,12,7,11,13,14,10</td>\n",
    "  </tr>\n",
    "  <tr>\n",
    "    <td class=\"tg-0pky\">25</td>\n",
    "    <td class=\"tg-0pky\">Attributes[2,12]+  Conditions[9](CFS)+   Airlines[11](CFS)+<br> Departure[13](CFS)+Arrival[14](CFS)</td>\n",
    "    <td class=\"tg-0pky\">2,12,9,11,13,14,10</td>\n",
    "  </tr>\n",
    "  <tr>\n",
    "    <td class=\"tg-0pky\">26</td>\n",
    "    <td class=\"tg-0pky\">Attributes[2,12]+Conditions[8]+Airlines[11](PCA+CFS)+<br>Departure[13](PCA+CFS)+Arrival[14](PCA+CFS)</td>\n",
    "    <td class=\"tg-0pky\">2,8,11,13,14,12,10</td>\n",
    "  </tr>\n",
    "  <tr>\n",
    "    <td class=\"tg-0pky\">27</td>\n",
    "    <td class=\"tg-0pky\">Attributes[2,12]+  Events[7](CFS)+ Airlines[11](PCA+CFS)+<br> Departure[13](PCA+CFS)+Arrival[14](PCA+CFS)</td>\n",
    "    <td class=\"tg-0pky\">2,12,7,11,13,14,10</td>\n",
    "  </tr>\n",
    "  <tr>\n",
    "    <td class=\"tg-0pky\">28</td>\n",
    "    <td class=\"tg-0pky\">Attributes[2,12]+  Conditions[9](CFS)+<br> Airlines[11](PCA+CFS)+Departure[13](PCA+CFS)+<br>Arrival[14](PCA+CFS)</td>\n",
    "    <td class=\"tg-0pky\">2,12,9,11,13,14,10</td>\n",
    "  </tr>\n",
    "  <tr>\n",
    "    <td class=\"tg-0pky\">29</td>\n",
    "    <td class=\"tg-0pky\">Attributes[2,12]+  [Events[7]+ Airlines[11]+Departure[13]+<br>Arrival[14]](PCA+CFS)</td>\n",
    "    <td class=\"tg-0pky\">2,12,7,11,13,14,10</td>\n",
    "  </tr>\n",
    "  <tr>\n",
    "    <td class=\"tg-0pky\">30</td>\n",
    "    <td class=\"tg-0pky\">Attributes[1,3,12]</td>\n",
    "    <td class=\"tg-0pky\">1,3,12,10</td>\n",
    "  </tr>\n",
    "  <tr>\n",
    "    <td class=\"tg-0pky\">31</td>\n",
    "    <td class=\"tg-0pky\">Attributes[3,12]+ Airlines[11](PCA+CFS)+<br> Departure[13](PCA+CFS)+Arrival[14](PCA+CFS)</td>\n",
    "    <td class=\"tg-0pky\">3,12,11,13,14,10</td>\n",
    "  </tr>\n",
    "  <tr>\n",
    "    <td class=\"tg-0pky\">32</td>\n",
    "    <td class=\"tg-0pky\">Attributes[1,4,12]</td>\n",
    "    <td class=\"tg-0pky\">1,4,12,10</td>\n",
    "  </tr>\n",
    "  <tr>\n",
    "    <td class=\"tg-0pky\">33</td>\n",
    "    <td class=\"tg-0pky\">Attributes[4,12]+ Airlines[11](PCA+CFS)+<br> Departure[13](PCA+CFS)+Arrival[14](PCA+CFS)</td>\n",
    "    <td class=\"tg-0pky\">4,12,11,13,14,10</td>\n",
    "  </tr>\n",
    "  <tr>\n",
    "    <td class=\"tg-0pky\">34</td>\n",
    "    <td class=\"tg-0pky\">Attributes[1,5,12]</td>\n",
    "    <td class=\"tg-0pky\">1,5,12,10</td>\n",
    "  </tr>\n",
    "  <tr>\n",
    "    <td class=\"tg-0pky\">35</td>\n",
    "    <td class=\"tg-0pky\">Attributes[5,12]+ Airlines[11](PCA+CFS)+<br> Departure[13](PCA+CFS)+Arrival[14](PCA+CFS)\\</td>\n",
    "    <td class=\"tg-0pky\">5,12,11,13,14,10</td>\n",
    "  </tr>\n",
    "  <tr>\n",
    "    <td class=\"tg-0pky\">36</td>\n",
    "    <td class=\"tg-0pky\">Attributes[1,2,4,12]</td>\n",
    "    <td class=\"tg-0pky\">1,2,4,12,10</td>\n",
    "  </tr>\n",
    "  <tr>\n",
    "    <td class=\"tg-0pky\">37</td>\n",
    "    <td class=\"tg-0pky\">Attributes[2,4,12]+ Airlines[11](PCA+CFS)+<br> Departure[13](PCA+CFS)+Arrival[14](PCA+CFS)</td>\n",
    "    <td class=\"tg-0pky\">2,4,12,11,13,14,10</td>\n",
    "  </tr>\n",
    "  <tr>\n",
    "    <td class=\"tg-0pky\">38</td>\n",
    "    <td class=\"tg-0pky\">Attributes[1,3,5,12]</td>\n",
    "    <td class=\"tg-0pky\">1,3,5,12,10</td>\n",
    "  </tr>\n",
    "  <tr>\n",
    "    <td class=\"tg-0pky\">39</td>\n",
    "    <td class=\"tg-0pky\">Attributes[3,5,12]+Airlines[11](PCA+CFS)+<br> Departure[13](PCA+CFS)+ Arrival[14](PCA+CFS)</td>\n",
    "    <td class=\"tg-0pky\">2,4,12,11,13,14,10</td>\n",
    "  </tr>\n",
    "  <tr>\n",
    "    <td class=\"tg-0pky\">40</td>\n",
    "    <td class=\"tg-0pky\">Attributes[1,4,99]</td>\n",
    "    <td class=\"tg-0pky\">1,4,6,99,10</td>\n",
    "  </tr>\n",
    "</table>"
   ]
  },
  {
   "cell_type": "markdown",
   "metadata": {},
   "source": [
    "<style type=\"text/css\">\n",
    ".tg  {border-collapse:collapse;border-spacing:0;}\n",
    ".tg td{font-family:Arial, sans-serif;font-size:14px;padding:10px 5px;border-style:solid;border-width:1px;overflow:hidden;word-break:normal;border-color:black;}\n",
    ".tg th{font-family:Arial, sans-serif;font-size:14px;font-weight:normal;padding:10px 5px;border-style:solid;border-width:1px;overflow:hidden;word-break:normal;border-color:black;}\n",
    ".tg .tg-c3ow{border-color:inherit;text-align:center;vertical-align:top}\n",
    ".tg .tg-0pky{border-color:inherit;text-align:left;vertical-align:top}\n",
    ".tg .tg-fymr{font-weight:bold;border-color:inherit;text-align:left;vertical-align:top}\n",
    ".tg .tg-7btt{font-weight:bold;border-color:inherit;text-align:center;vertical-align:top}\n",
    "</style>\n",
    "<table class=\"tg\">\n",
    "  <tr>\n",
    "    <th class=\"tg-0pky\"></th>\n",
    "    <th class=\"tg-fymr\"></th>\n",
    "    <th class=\"tg-fymr\"></th>\n",
    "    <th class=\"tg-7btt\" colspan=\"4\">Reduction Strategies</th>\n",
    "  </tr>\n",
    "  <tr>\n",
    "    <td class=\"tg-7btt\"></td>\n",
    "    <td class=\"tg-7btt\" colspan=\"2\">ML</td>\n",
    "    <td class=\"tg-7btt\" colspan=\"3\">Feature Selection</td>\n",
    "    <td class=\"tg-7btt\">Feature Extraction</td>\n",
    "  </tr>\n",
    "  <tr>\n",
    "    <td class=\"tg-7btt\">Workflow</td>\n",
    "    <td class=\"tg-7btt\">RF</td>\n",
    "    <td class=\"tg-7btt\">NN</td>\n",
    "    <td class=\"tg-7btt\">LASSO(LS)</td>\n",
    "    <td class=\"tg-7btt\">INFOGAIN(IG)</td>\n",
    "    <td class=\"tg-7btt\">CFS</td>\n",
    "    <td class=\"tg-7btt\">PCA</td>\n",
    "  </tr>\n",
    "  <tr>\n",
    "    <td class=\"tg-0pky\">0</td>\n",
    "    <td class=\"tg-c3ow\">X</td>\n",
    "    <td class=\"tg-c3ow\"></td>\n",
    "    <td class=\"tg-c3ow\"></td>\n",
    "    <td class=\"tg-c3ow\"></td>\n",
    "    <td class=\"tg-c3ow\"></td>\n",
    "    <td class=\"tg-c3ow\"></td>\n",
    "  </tr>\n",
    "  <tr>\n",
    "    <td class=\"tg-0pky\">1</td>\n",
    "    <td class=\"tg-c3ow\">X</td>\n",
    "    <td class=\"tg-c3ow\"></td>\n",
    "    <td class=\"tg-c3ow\"></td>\n",
    "    <td class=\"tg-c3ow\"></td>\n",
    "    <td class=\"tg-c3ow\"></td>\n",
    "    <td class=\"tg-c3ow\"></td>\n",
    "  </tr>\n",
    "  <tr>\n",
    "    <td class=\"tg-0pky\">2</td>\n",
    "    <td class=\"tg-c3ow\">X</td>\n",
    "    <td class=\"tg-c3ow\">X</td>\n",
    "    <td class=\"tg-c3ow\"></td>\n",
    "    <td class=\"tg-c3ow\"></td>\n",
    "    <td class=\"tg-c3ow\"></td>\n",
    "    <td class=\"tg-c3ow\"></td>\n",
    "  </tr>\n",
    "  <tr>\n",
    "    <td class=\"tg-0pky\">3</td>\n",
    "    <td class=\"tg-c3ow\">X</td>\n",
    "    <td class=\"tg-c3ow\"></td>\n",
    "    <td class=\"tg-c3ow\"></td>\n",
    "    <td class=\"tg-c3ow\"></td>\n",
    "    <td class=\"tg-c3ow\"></td>\n",
    "    <td class=\"tg-c3ow\"></td>\n",
    "  </tr>\n",
    "  <tr>\n",
    "    <td class=\"tg-0pky\">4</td>\n",
    "    <td class=\"tg-c3ow\">X</td>\n",
    "    <td class=\"tg-c3ow\"></td>\n",
    "    <td class=\"tg-c3ow\"></td>\n",
    "    <td class=\"tg-c3ow\"></td>\n",
    "    <td class=\"tg-c3ow\"></td>\n",
    "    <td class=\"tg-c3ow\"></td>\n",
    "  </tr>\n",
    "  <tr>\n",
    "    <td class=\"tg-0pky\">5</td>\n",
    "    <td class=\"tg-c3ow\">X</td>\n",
    "    <td class=\"tg-c3ow\"></td>\n",
    "    <td class=\"tg-c3ow\"></td>\n",
    "    <td class=\"tg-c3ow\"></td>\n",
    "    <td class=\"tg-c3ow\"></td>\n",
    "    <td class=\"tg-c3ow\">X</td>\n",
    "  </tr>\n",
    "  <tr>\n",
    "    <td class=\"tg-0pky\">6</td>\n",
    "    <td class=\"tg-c3ow\">X</td>\n",
    "    <td class=\"tg-c3ow\"></td>\n",
    "    <td class=\"tg-c3ow\">X</td>\n",
    "    <td class=\"tg-c3ow\"></td>\n",
    "    <td class=\"tg-c3ow\"></td>\n",
    "    <td class=\"tg-c3ow\">X</td>\n",
    "  </tr>\n",
    "  <tr>\n",
    "    <td class=\"tg-0pky\">7</td>\n",
    "    <td class=\"tg-c3ow\">X</td>\n",
    "    <td class=\"tg-c3ow\"></td>\n",
    "    <td class=\"tg-c3ow\"></td>\n",
    "    <td class=\"tg-c3ow\">X</td>\n",
    "    <td class=\"tg-c3ow\"></td>\n",
    "    <td class=\"tg-c3ow\">X</td>\n",
    "  </tr>\n",
    "  <tr>\n",
    "    <td class=\"tg-0pky\">8</td>\n",
    "    <td class=\"tg-c3ow\">X</td>\n",
    "    <td class=\"tg-c3ow\"></td>\n",
    "    <td class=\"tg-c3ow\"></td>\n",
    "    <td class=\"tg-c3ow\"></td>\n",
    "    <td class=\"tg-c3ow\">X</td>\n",
    "    <td class=\"tg-c3ow\">X</td>\n",
    "  </tr>\n",
    "  <tr>\n",
    "    <td class=\"tg-0pky\">9</td>\n",
    "    <td class=\"tg-c3ow\">X</td>\n",
    "    <td class=\"tg-c3ow\"></td>\n",
    "    <td class=\"tg-c3ow\">X</td>\n",
    "    <td class=\"tg-c3ow\"></td>\n",
    "    <td class=\"tg-c3ow\"></td>\n",
    "    <td class=\"tg-c3ow\"></td>\n",
    "  </tr>\n",
    "  <tr>\n",
    "    <td class=\"tg-0pky\">10</td>\n",
    "    <td class=\"tg-c3ow\">X</td>\n",
    "    <td class=\"tg-c3ow\"></td>\n",
    "    <td class=\"tg-c3ow\"></td>\n",
    "    <td class=\"tg-c3ow\">X</td>\n",
    "    <td class=\"tg-c3ow\"></td>\n",
    "    <td class=\"tg-c3ow\"></td>\n",
    "  </tr>\n",
    "  <tr>\n",
    "    <td class=\"tg-0pky\">11</td>\n",
    "    <td class=\"tg-c3ow\">X</td>\n",
    "    <td class=\"tg-c3ow\"></td>\n",
    "    <td class=\"tg-c3ow\"></td>\n",
    "    <td class=\"tg-c3ow\"></td>\n",
    "    <td class=\"tg-c3ow\">X</td>\n",
    "    <td class=\"tg-c3ow\"></td>\n",
    "  </tr>\n",
    "  <tr>\n",
    "    <td class=\"tg-0pky\">12</td>\n",
    "    <td class=\"tg-c3ow\">X</td>\n",
    "    <td class=\"tg-c3ow\"></td>\n",
    "    <td class=\"tg-c3ow\"></td>\n",
    "    <td class=\"tg-c3ow\"></td>\n",
    "    <td class=\"tg-c3ow\"></td>\n",
    "    <td class=\"tg-c3ow\"></td>\n",
    "  </tr>\n",
    "  <tr>\n",
    "    <td class=\"tg-0pky\">13</td>\n",
    "    <td class=\"tg-c3ow\">X</td>\n",
    "    <td class=\"tg-c3ow\"></td>\n",
    "    <td class=\"tg-c3ow\">X</td>\n",
    "    <td class=\"tg-c3ow\"></td>\n",
    "    <td class=\"tg-c3ow\"></td>\n",
    "    <td class=\"tg-c3ow\">X</td>\n",
    "  </tr>\n",
    "  <tr>\n",
    "    <td class=\"tg-0pky\">14</td>\n",
    "    <td class=\"tg-c3ow\">X</td>\n",
    "    <td class=\"tg-c3ow\"></td>\n",
    "    <td class=\"tg-c3ow\"></td>\n",
    "    <td class=\"tg-c3ow\"></td>\n",
    "    <td class=\"tg-c3ow\">X</td>\n",
    "    <td class=\"tg-c3ow\"></td>\n",
    "  </tr>\n",
    "  <tr>\n",
    "    <td class=\"tg-0pky\">15</td>\n",
    "    <td class=\"tg-c3ow\">X</td>\n",
    "    <td class=\"tg-c3ow\"></td>\n",
    "    <td class=\"tg-c3ow\">X</td>\n",
    "    <td class=\"tg-c3ow\"></td>\n",
    "    <td class=\"tg-c3ow\">X</td>\n",
    "    <td class=\"tg-c3ow\"></td>\n",
    "  </tr>\n",
    "  <tr>\n",
    "    <td class=\"tg-0pky\">16</td>\n",
    "    <td class=\"tg-c3ow\">X</td>\n",
    "    <td class=\"tg-c3ow\"></td>\n",
    "    <td class=\"tg-c3ow\">X</td>\n",
    "    <td class=\"tg-c3ow\"></td>\n",
    "    <td class=\"tg-c3ow\">X</td>\n",
    "    <td class=\"tg-c3ow\">X</td>\n",
    "  </tr>\n",
    "  <tr>\n",
    "    <td class=\"tg-0pky\">17</td>\n",
    "    <td class=\"tg-c3ow\">X</td>\n",
    "    <td class=\"tg-c3ow\"></td>\n",
    "    <td class=\"tg-c3ow\"></td>\n",
    "    <td class=\"tg-c3ow\"></td>\n",
    "    <td class=\"tg-c3ow\"></td>\n",
    "    <td class=\"tg-c3ow\"></td>\n",
    "  </tr>\n",
    "  <tr>\n",
    "    <td class=\"tg-0pky\">18</td>\n",
    "    <td class=\"tg-c3ow\">X</td>\n",
    "    <td class=\"tg-c3ow\">X</td>\n",
    "    <td class=\"tg-c3ow\"></td>\n",
    "    <td class=\"tg-c3ow\"></td>\n",
    "    <td class=\"tg-c3ow\"></td>\n",
    "    <td class=\"tg-c3ow\"></td>\n",
    "  </tr>\n",
    "  <tr>\n",
    "    <td class=\"tg-0pky\">19</td>\n",
    "    <td class=\"tg-c3ow\">X</td>\n",
    "    <td class=\"tg-c3ow\">X</td>\n",
    "    <td class=\"tg-c3ow\"></td>\n",
    "    <td class=\"tg-c3ow\">X</td>\n",
    "    <td class=\"tg-c3ow\"></td>\n",
    "    <td class=\"tg-c3ow\">X</td>\n",
    "  </tr>\n",
    "  <tr>\n",
    "    <td class=\"tg-0pky\">20</td>\n",
    "    <td class=\"tg-c3ow\">X</td>\n",
    "    <td class=\"tg-c3ow\">X</td>\n",
    "    <td class=\"tg-c3ow\"></td>\n",
    "    <td class=\"tg-c3ow\">X</td>\n",
    "    <td class=\"tg-c3ow\">X</td>\n",
    "    <td class=\"tg-c3ow\">X</td>\n",
    "  </tr>\n",
    "  <tr>\n",
    "    <td class=\"tg-0pky\">21</td>\n",
    "    <td class=\"tg-c3ow\">X</td>\n",
    "    <td class=\"tg-c3ow\">X</td>\n",
    "    <td class=\"tg-c3ow\"></td>\n",
    "    <td class=\"tg-c3ow\"></td>\n",
    "    <td class=\"tg-c3ow\">X</td>\n",
    "    <td class=\"tg-c3ow\">X</td>\n",
    "  </tr>\n",
    "  <tr>\n",
    "    <td class=\"tg-0pky\">22</td>\n",
    "    <td class=\"tg-c3ow\">X</td>\n",
    "    <td class=\"tg-c3ow\">X</td>\n",
    "    <td class=\"tg-c3ow\"></td>\n",
    "    <td class=\"tg-c3ow\"></td>\n",
    "    <td class=\"tg-c3ow\">X</td>\n",
    "    <td class=\"tg-c3ow\">X</td>\n",
    "  </tr>\n",
    "  <tr>\n",
    "    <td class=\"tg-0pky\">23</td>\n",
    "    <td class=\"tg-c3ow\">X</td>\n",
    "    <td class=\"tg-c3ow\">X</td>\n",
    "    <td class=\"tg-c3ow\"></td>\n",
    "    <td class=\"tg-c3ow\"></td>\n",
    "    <td class=\"tg-c3ow\">X</td>\n",
    "    <td class=\"tg-c3ow\"></td>\n",
    "  </tr>\n",
    "  <tr>\n",
    "    <td class=\"tg-0pky\">24</td>\n",
    "    <td class=\"tg-c3ow\">X</td>\n",
    "    <td class=\"tg-c3ow\">X</td>\n",
    "    <td class=\"tg-c3ow\"></td>\n",
    "    <td class=\"tg-c3ow\"></td>\n",
    "    <td class=\"tg-c3ow\">X</td>\n",
    "    <td class=\"tg-c3ow\"></td>\n",
    "  </tr>\n",
    "  <tr>\n",
    "    <td class=\"tg-0pky\">25</td>\n",
    "    <td class=\"tg-c3ow\">X</td>\n",
    "    <td class=\"tg-c3ow\">X</td>\n",
    "    <td class=\"tg-c3ow\"></td>\n",
    "    <td class=\"tg-c3ow\"></td>\n",
    "    <td class=\"tg-c3ow\">X</td>\n",
    "    <td class=\"tg-c3ow\">X</td>\n",
    "  </tr>\n",
    "  <tr>\n",
    "    <td class=\"tg-0pky\">26</td>\n",
    "    <td class=\"tg-c3ow\">X</td>\n",
    "    <td class=\"tg-c3ow\">X</td>\n",
    "    <td class=\"tg-c3ow\"></td>\n",
    "    <td class=\"tg-c3ow\"></td>\n",
    "    <td class=\"tg-c3ow\">X</td>\n",
    "    <td class=\"tg-c3ow\">X</td>\n",
    "  </tr>\n",
    "  <tr>\n",
    "    <td class=\"tg-0pky\">27</td>\n",
    "    <td class=\"tg-c3ow\">X</td>\n",
    "    <td class=\"tg-c3ow\">X</td>\n",
    "    <td class=\"tg-c3ow\"></td>\n",
    "    <td class=\"tg-c3ow\">X</td>\n",
    "    <td class=\"tg-c3ow\">X</td>\n",
    "    <td class=\"tg-c3ow\">X</td>\n",
    "  </tr>\n",
    "  <tr>\n",
    "    <td class=\"tg-0pky\">28</td>\n",
    "    <td class=\"tg-c3ow\">X</td>\n",
    "    <td class=\"tg-c3ow\">X</td>\n",
    "    <td class=\"tg-c3ow\"></td>\n",
    "    <td class=\"tg-c3ow\"></td>\n",
    "    <td class=\"tg-c3ow\">X</td>\n",
    "    <td class=\"tg-c3ow\">X</td>\n",
    "  </tr>\n",
    "  <tr>\n",
    "    <td class=\"tg-0pky\">29</td>\n",
    "    <td class=\"tg-c3ow\">X</td>\n",
    "    <td class=\"tg-c3ow\">X</td>\n",
    "    <td class=\"tg-c3ow\"></td>\n",
    "    <td class=\"tg-c3ow\"></td>\n",
    "    <td class=\"tg-c3ow\">X</td>\n",
    "    <td class=\"tg-c3ow\">X</td>\n",
    "  </tr>\n",
    "  <tr>\n",
    "    <td class=\"tg-0pky\">30</td>\n",
    "    <td class=\"tg-c3ow\">X</td>\n",
    "    <td class=\"tg-c3ow\"></td>\n",
    "    <td class=\"tg-c3ow\"></td>\n",
    "    <td class=\"tg-c3ow\"></td>\n",
    "    <td class=\"tg-c3ow\"></td>\n",
    "    <td class=\"tg-c3ow\">X</td>\n",
    "  </tr>\n",
    "  <tr>\n",
    "    <td class=\"tg-0pky\">31</td>\n",
    "    <td class=\"tg-c3ow\">X</td>\n",
    "    <td class=\"tg-c3ow\">X</td>\n",
    "    <td class=\"tg-c3ow\"></td>\n",
    "    <td class=\"tg-c3ow\"></td>\n",
    "    <td class=\"tg-c3ow\">X</td>\n",
    "    <td class=\"tg-c3ow\">X</td>\n",
    "  </tr>\n",
    "  <tr>\n",
    "    <td class=\"tg-0pky\">32</td>\n",
    "    <td class=\"tg-c3ow\">X</td>\n",
    "    <td class=\"tg-c3ow\"></td>\n",
    "    <td class=\"tg-c3ow\"></td>\n",
    "    <td class=\"tg-c3ow\"></td>\n",
    "    <td class=\"tg-c3ow\"></td>\n",
    "    <td class=\"tg-c3ow\"></td>\n",
    "  </tr>\n",
    "  <tr>\n",
    "    <td class=\"tg-0pky\">33</td>\n",
    "    <td class=\"tg-c3ow\">X</td>\n",
    "    <td class=\"tg-c3ow\">X</td>\n",
    "    <td class=\"tg-c3ow\"></td>\n",
    "    <td class=\"tg-c3ow\"></td>\n",
    "    <td class=\"tg-c3ow\">X</td>\n",
    "    <td class=\"tg-c3ow\">X</td>\n",
    "  </tr>\n",
    "  <tr>\n",
    "    <td class=\"tg-0pky\">34</td>\n",
    "    <td class=\"tg-c3ow\">X</td>\n",
    "    <td class=\"tg-c3ow\"></td>\n",
    "    <td class=\"tg-c3ow\"></td>\n",
    "    <td class=\"tg-c3ow\"></td>\n",
    "    <td class=\"tg-c3ow\"></td>\n",
    "    <td class=\"tg-c3ow\"></td>\n",
    "  </tr>\n",
    "  <tr>\n",
    "    <td class=\"tg-0pky\">35</td>\n",
    "    <td class=\"tg-c3ow\">X</td>\n",
    "    <td class=\"tg-c3ow\">X</td>\n",
    "    <td class=\"tg-c3ow\"></td>\n",
    "    <td class=\"tg-c3ow\"></td>\n",
    "    <td class=\"tg-c3ow\">X</td>\n",
    "    <td class=\"tg-c3ow\">X</td>\n",
    "  </tr>\n",
    "  <tr>\n",
    "    <td class=\"tg-0pky\">36</td>\n",
    "    <td class=\"tg-c3ow\">X</td>\n",
    "    <td class=\"tg-c3ow\"></td>\n",
    "    <td class=\"tg-c3ow\"></td>\n",
    "    <td class=\"tg-c3ow\"></td>\n",
    "    <td class=\"tg-c3ow\"></td>\n",
    "    <td class=\"tg-c3ow\"></td>\n",
    "  </tr>\n",
    "  <tr>\n",
    "    <td class=\"tg-0pky\">37</td>\n",
    "    <td class=\"tg-c3ow\">X</td>\n",
    "    <td class=\"tg-c3ow\">X</td>\n",
    "    <td class=\"tg-c3ow\"></td>\n",
    "    <td class=\"tg-c3ow\"></td>\n",
    "    <td class=\"tg-c3ow\">X</td>\n",
    "    <td class=\"tg-c3ow\">X</td>\n",
    "  </tr>\n",
    "  <tr>\n",
    "    <td class=\"tg-0pky\">38</td>\n",
    "    <td class=\"tg-c3ow\">X</td>\n",
    "    <td class=\"tg-c3ow\"></td>\n",
    "    <td class=\"tg-c3ow\"></td>\n",
    "    <td class=\"tg-c3ow\"></td>\n",
    "    <td class=\"tg-c3ow\"></td>\n",
    "    <td class=\"tg-c3ow\"></td>\n",
    "  </tr>\n",
    "  <tr>\n",
    "    <td class=\"tg-0pky\">39</td>\n",
    "    <td class=\"tg-c3ow\">X</td>\n",
    "    <td class=\"tg-c3ow\">X</td>\n",
    "    <td class=\"tg-c3ow\"></td>\n",
    "    <td class=\"tg-c3ow\"></td>\n",
    "    <td class=\"tg-c3ow\">X</td>\n",
    "    <td class=\"tg-c3ow\">X</td>\n",
    "  </tr>\n",
    "  <tr>\n",
    "    <td class=\"tg-0pky\">40</td>\n",
    "    <td class=\"tg-c3ow\">X</td>\n",
    "    <td class=\"tg-c3ow\"></td>\n",
    "    <td class=\"tg-c3ow\"></td>\n",
    "    <td class=\"tg-c3ow\"></td>\n",
    "    <td class=\"tg-c3ow\"></td>\n",
    "    <td class=\"tg-c3ow\"></td>\n",
    "  </tr>\n",
    "</table>"
   ]
  },
  {
   "cell_type": "markdown",
   "metadata": {
    "collapsed": true
   },
   "source": [
    "<h4>Realized Experiments</h4>"
   ]
  },
  {
   "cell_type": "markdown",
   "metadata": {},
   "source": [
    "<style type=\"text/css\">\n",
    ".tg  {border-collapse:collapse;border-spacing:0;}\n",
    ".tg td{font-family:Arial, sans-serif;font-size:14px;padding:10px 5px;border-style:solid;border-width:1px;overflow:hidden;word-break:normal;border-color:black;}\n",
    ".tg th{font-family:Arial, sans-serif;font-size:14px;font-weight:normal;padding:10px 5px;border-style:solid;border-width:1px;overflow:hidden;word-break:normal;border-color:black;}\n",
    ".tg .tg-c3ow{border-color:inherit;text-align:center;vertical-align:top}\n",
    ".tg .tg-fymr{font-weight:bold;border-color:inherit;text-align:left;vertical-align:top}\n",
    ".tg .tg-7btt{font-weight:bold;border-color:inherit;text-align:center;vertical-align:top}\n",
    ".tg .tg-0pky{border-color:inherit;text-align:left;vertical-align:top}\n",
    "</style>\n",
    "<table class=\"tg\">\n",
    "  <tr>\n",
    "    <th class=\"tg-fymr\">Code</th>\n",
    "    <th class=\"tg-7btt\">Experiment Description</th>\n",
    "    <th class=\"tg-7btt\">Workflow</th>\n",
    "  </tr>\n",
    "  <tr>\n",
    "    <td class=\"tg-0pky\">1</td>\n",
    "    <td class=\"tg-c3ow\">Comparison Between Original and Transformed Time</td>\n",
    "    <td class=\"tg-0pky\">0,1,22</td>\n",
    "  </tr>\n",
    "  <tr>\n",
    "    <td class=\"tg-0pky\">2</td>\n",
    "    <td class=\"tg-c3ow\">Comparison of Conceptual Hierarchy (Departure Time<br> Original)</td>\n",
    "    <td class=\"tg-0pky\">0,1,2,3</td>\n",
    "  </tr>\n",
    "  <tr>\n",
    "    <td class=\"tg-0pky\">3</td>\n",
    "    <td class=\"tg-c3ow\">Comparison of Feature Selection Techniques(CFS,<br> PCA,LASSO,IG) on Conditions</td>\n",
    "    <td class=\"tg-0pky\">4;5:11;25,28</td>\n",
    "  </tr>\n",
    "  <tr>\n",
    "    <td class=\"tg-0pky\">4</td>\n",
    "    <td class=\"tg-c3ow\">Comparison of Feature Selection Techniques(LASSO,<br> CFS,PCA) on Events</td>\n",
    "    <td class=\"tg-0pky\">13,14;24,27,29</td>\n",
    "  </tr>\n",
    "  <tr>\n",
    "    <td class=\"tg-0pky\">5</td>\n",
    "    <td class=\"tg-c3ow\">Comparison of Feature Selection Techniques(LASSO,<br> CFS,PCA) on Events and Conditions</td>\n",
    "    <td class=\"tg-0pky\">15,16,17</td>\n",
    "  </tr>\n",
    "  <tr>\n",
    "    <td class=\"tg-0pky\">6</td>\n",
    "    <td class=\"tg-c3ow\">Comparison of data with and without Airline,<br> Departure and Arrival fields</td>\n",
    "    <td class=\"tg-0pky\">1,18</td>\n",
    "  </tr>\n",
    "  <tr>\n",
    "    <td class=\"tg-0pky\">7</td>\n",
    "    <td class=\"tg-c3ow\">Comparison of impacts of separately e together data of Airline, <br>Departure and Arrival</td>\n",
    "    <td class=\"tg-0pky\">19,20,21,22</td>\n",
    "  </tr>\n",
    "  <tr>\n",
    "    <td class=\"tg-0pky\">8</td>\n",
    "    <td class=\"tg-c3ow\">Comparison of Feature Selection to completely data<br> (Airline,Arrival,Departure)</td>\n",
    "    <td class=\"tg-0pky\">22,23</td>\n",
    "  </tr>\n",
    "  <tr>\n",
    "    <td class=\"tg-0pky\">9</td>\n",
    "    <td class=\"tg-c3ow\">Comparison of Best {Basics+Events} and  CM<br> (Airline,Arrival,Departure)+ Events{7}</td>\n",
    "    <td class=\"tg-0pky\">12,14,27</td>\n",
    "  </tr>\n",
    "  <tr>\n",
    "    <td class=\"tg-0pky\">10</td>\n",
    "    <td class=\"tg-c3ow\">Comparison Between CM(Airline,Arrival,<br> Departure) + Conditions{8,9}</td>\n",
    "    <td class=\"tg-0pky\">4,9,26,28</td>\n",
    "  </tr>\n",
    "  <tr>\n",
    "    <td class=\"tg-0pky\">11</td>\n",
    "    <td class=\"tg-c3ow\">Comparison between Original {2} and Discretized{3},<br>  With and Without CM(Airline,Departure,Arrival)</td>\n",
    "    <td class=\"tg-0pky\">1,30,31</td>\n",
    "  </tr>\n",
    "  <tr>\n",
    "    <td class=\"tg-0pky\">12</td>\n",
    "    <td class=\"tg-c3ow\">Comparison between Original {4} and Discretized{5},<br>  With and Without CM(Airline,Departure,Arrival)</td>\n",
    "    <td class=\"tg-0pky\">1,32,33,34,35</td>\n",
    "  </tr>\n",
    "  <tr>\n",
    "    <td class=\"tg-0pky\">13</td>\n",
    "    <td class=\"tg-c3ow\">Comparsion between include Discretized{4}  on <br> Basic With and Without CM(Airline, Departure,Arrival)</td>\n",
    "    <td class=\"tg-0pky\">1,36,37,40</td>\n",
    "  </tr>\n",
    "  <tr>\n",
    "    <td class=\"tg-0pky\">14</td>\n",
    "    <td class=\"tg-c3ow\">Comparsion between include Discretized{3,5} and Basic</td>\n",
    "    <td class=\"tg-0pky\"> 1,38,39 </td>\n",
    "  </tr>\n",
    "  <tr>\n",
    "    <td class=\"tg-0pky\">15</td>\n",
    "    <td class=\"tg-c3ow\">Comparison of Normalization Methods </td>\n",
    "    <td class=\"tg-0pky\">All</td>\n",
    "  </tr>\n",
    "  <tr>\n",
    "    <td class=\"tg-0pky\">16</td>\n",
    "    <td class=\"tg-c3ow\">Comparison of Balancing Methods</td>\n",
    "    <td class=\"tg-0pky\">All</td>\n",
    "  </tr>\n",
    "  <tr>\n",
    "    <td class=\"tg-0pky\">17</td>\n",
    "    <td class=\"tg-c3ow\">Comparison of Threshold Approach</td>\n",
    "    <td class=\"tg-0pky\">All</td>\n",
    "  </tr>\n",
    "  <tr>\n",
    "    <td class=\"tg-0pky\">18</td>\n",
    "    <td class=\"tg-c3ow\">Random Forest X Neural Networks</td>\n",
    "    <td class=\"tg-0pky\">All</td>\n",
    "  </tr>\n",
    "  <tr>\n",
    "    <td class=\"tg-0pky\">19</td>\n",
    "    <td class=\"tg-c3ow\">Accuracy, Sensibility and F1-Score</td>\n",
    "    <td class=\"tg-0pky\">All</td>\n",
    "  </tr>\n",
    "  <tr>\n",
    "    <td class=\"tg-0pky\">20</td>\n",
    "    <td class=\"tg-c3ow\">Time Elapsed</td>\n",
    "    <td class=\"tg-0pky\">All</td>\n",
    "  </tr>\n",
    "</table>"
   ]
  },
  {
   "cell_type": "markdown",
   "metadata": {},
   "source": [
    "<h3>Results</h3>"
   ]
  },
  {
   "cell_type": "markdown",
   "metadata": {},
   "source": [
    "<h4>Better F1-Score</h4>"
   ]
  },
  {
   "cell_type": "markdown",
   "metadata": {},
   "source": [
    "<style type=\"text/css\">\n",
    ".tg  {border-collapse:collapse;border-spacing:0;}\n",
    ".tg td{font-family:Arial, sans-serif;font-size:14px;padding:10px 5px;border-style:solid;border-width:1px;overflow:hidden;word-break:normal;border-color:black;}\n",
    ".tg th{font-family:Arial, sans-serif;font-size:14px;font-weight:normal;padding:10px 5px;border-style:solid;border-width:1px;overflow:hidden;word-break:normal;border-color:black;}\n",
    ".tg .tg-u0o7{font-weight:bold;text-decoration:underline;border-color:inherit;text-align:left;vertical-align:top}\n",
    ".tg .tg-7btt{font-weight:bold;border-color:inherit;text-align:center;vertical-align:top}\n",
    ".tg .tg-fymr{font-weight:bold;border-color:inherit;text-align:left;vertical-align:top}\n",
    ".tg .tg-0pky{border-color:inherit;text-align:left;vertical-align:top}\n",
    ".tg .tg-dvpl{border-color:inherit;text-align:right;vertical-align:top}\n",
    "</style>\n",
    "<table class=\"tg\">\n",
    "  <tr>\n",
    "    <th class=\"tg-7btt\">Threshold</th>\n",
    "    <th class=\"tg-7btt\">WF</th>\n",
    "    <th class=\"tg-7btt\">ML</th>\n",
    "    <th class=\"tg-7btt\">BL</th>\n",
    "    <th class=\"tg-7btt\">NM</th>\n",
    "    <th class=\"tg-7btt\">AC</th>\n",
    "    <th class=\"tg-7btt\">SS/R</th>\n",
    "    <th class=\"tg-7btt\">SP</th>\n",
    "    <th class=\"tg-7btt\">P</th>\n",
    "    <th class=\"tg-7btt\">F1-Score</th>\n",
    "    <th class=\"tg-7btt\">Time</th>\n",
    "  </tr>\n",
    "  <tr>\n",
    "    <td class=\"tg-fymr\" rowspan=\"5\">Conventional</td>\n",
    "    <td class=\"tg-0pky\">2</td>\n",
    "    <td class=\"tg-dvpl\">RF</td>\n",
    "    <td class=\"tg-0pky\">IMB</td>\n",
    "    <td class=\"tg-0pky\">ZS</td>\n",
    "    <td class=\"tg-0pky\">0,947</td>\n",
    "    <td class=\"tg-dvpl\">0,700</td>\n",
    "    <td class=\"tg-dvpl\">0,989</td>\n",
    "    <td class=\"tg-dvpl\">0,912</td>\n",
    "    <td class=\"tg-u0o7\">0,792</td>\n",
    "    <td class=\"tg-dvpl\">7,638</td>\n",
    "  </tr>\n",
    "  <tr>\n",
    "    <td class=\"tg-0pky\">2</td>\n",
    "    <td class=\"tg-dvpl\">RF</td>\n",
    "    <td class=\"tg-0pky\">IMB</td>\n",
    "    <td class=\"tg-0pky\">MM</td>\n",
    "    <td class=\"tg-0pky\">0,947</td>\n",
    "    <td class=\"tg-dvpl\">0,695</td>\n",
    "    <td class=\"tg-dvpl\">0,989</td>\n",
    "    <td class=\"tg-dvpl\">0,911</td>\n",
    "    <td class=\"tg-fymr\">0,789</td>\n",
    "    <td class=\"tg-dvpl\">7,855</td>\n",
    "  </tr>\n",
    "  <tr>\n",
    "    <td class=\"tg-0pky\">2</td>\n",
    "    <td class=\"tg-dvpl\">RF</td>\n",
    "    <td class=\"tg-0pky\">IMB</td>\n",
    "    <td class=\"tg-0pky\">WN</td>\n",
    "    <td class=\"tg-0pky\">0,946</td>\n",
    "    <td class=\"tg-dvpl\">0,691</td>\n",
    "    <td class=\"tg-dvpl\">0,989</td>\n",
    "    <td class=\"tg-dvpl\">0,911</td>\n",
    "    <td class=\"tg-fymr\">0,786</td>\n",
    "    <td class=\"tg-dvpl\">7,317</td>\n",
    "  </tr>\n",
    "  <tr>\n",
    "    <td class=\"tg-0pky\">4</td>\n",
    "    <td class=\"tg-dvpl\">RF</td>\n",
    "    <td class=\"tg-0pky\">IMB</td>\n",
    "    <td class=\"tg-0pky\">MM</td>\n",
    "    <td class=\"tg-0pky\">0,943</td>\n",
    "    <td class=\"tg-dvpl\">0,674</td>\n",
    "    <td class=\"tg-dvpl\">0,988</td>\n",
    "    <td class=\"tg-dvpl\">0,902</td>\n",
    "    <td class=\"tg-fymr\">0,772</td>\n",
    "    <td class=\"tg-dvpl\">8,252</td>\n",
    "  </tr>\n",
    "  <tr>\n",
    "    <td class=\"tg-0pky\">4</td>\n",
    "    <td class=\"tg-dvpl\">RF</td>\n",
    "    <td class=\"tg-0pky\">IMB</td>\n",
    "    <td class=\"tg-0pky\">ZS</td>\n",
    "    <td class=\"tg-0pky\">0,942</td>\n",
    "    <td class=\"tg-dvpl\">0,674</td>\n",
    "    <td class=\"tg-dvpl\">0,987</td>\n",
    "    <td class=\"tg-dvpl\">0,897</td>\n",
    "    <td class=\"tg-fymr\">0,770</td>\n",
    "    <td class=\"tg-dvpl\">7,981</td>\n",
    "  </tr>\n",
    "  <tr>\n",
    "    <td class=\"tg-fymr\" rowspan=\"5\">Majority</td>\n",
    "    <td class=\"tg-0pky\">22</td>\n",
    "    <td class=\"tg-dvpl\">RF</td>\n",
    "    <td class=\"tg-0pky\">IMB</td>\n",
    "    <td class=\"tg-0pky\">WN</td>\n",
    "    <td class=\"tg-0pky\">0,940</td>\n",
    "    <td class=\"tg-dvpl\">0,875</td>\n",
    "    <td class=\"tg-dvpl\">0,950</td>\n",
    "    <td class=\"tg-dvpl\">0,746</td>\n",
    "    <td class=\"tg-u0o7\">0,806</td>\n",
    "    <td class=\"tg-dvpl\">10,296</td>\n",
    "  </tr>\n",
    "  <tr>\n",
    "    <td class=\"tg-0pky\">27</td>\n",
    "    <td class=\"tg-dvpl\">RF</td>\n",
    "    <td class=\"tg-0pky\">IMB</td>\n",
    "    <td class=\"tg-0pky\">WN</td>\n",
    "    <td class=\"tg-0pky\">0,940</td>\n",
    "    <td class=\"tg-dvpl\">0,875</td>\n",
    "    <td class=\"tg-dvpl\">0,950</td>\n",
    "    <td class=\"tg-dvpl\">0,746</td>\n",
    "    <td class=\"tg-u0o7\">0,806</td>\n",
    "    <td class=\"tg-dvpl\">10,415</td>\n",
    "  </tr>\n",
    "  <tr>\n",
    "    <td class=\"tg-0pky\">28</td>\n",
    "    <td class=\"tg-dvpl\">RF</td>\n",
    "    <td class=\"tg-0pky\">IMB</td>\n",
    "    <td class=\"tg-0pky\">WN</td>\n",
    "    <td class=\"tg-0pky\">0,940</td>\n",
    "    <td class=\"tg-dvpl\">0,875</td>\n",
    "    <td class=\"tg-dvpl\">0,950</td>\n",
    "    <td class=\"tg-dvpl\">0,746</td>\n",
    "    <td class=\"tg-u0o7\">0,806</td>\n",
    "    <td class=\"tg-dvpl\">10,508</td>\n",
    "  </tr>\n",
    "  <tr>\n",
    "    <td class=\"tg-0pky\">24</td>\n",
    "    <td class=\"tg-dvpl\">RF</td>\n",
    "    <td class=\"tg-0pky\">IMB</td>\n",
    "    <td class=\"tg-0pky\">WN</td>\n",
    "    <td class=\"tg-0pky\">0,939</td>\n",
    "    <td class=\"tg-dvpl\">0,881</td>\n",
    "    <td class=\"tg-dvpl\">0,949</td>\n",
    "    <td class=\"tg-dvpl\">0,740</td>\n",
    "    <td class=\"tg-fymr\">0,805</td>\n",
    "    <td class=\"tg-dvpl\">10,732</td>\n",
    "  </tr>\n",
    "  <tr>\n",
    "    <td class=\"tg-0pky\">22</td>\n",
    "    <td class=\"tg-dvpl\">RF</td>\n",
    "    <td class=\"tg-0pky\">IMB</td>\n",
    "    <td class=\"tg-0pky\">ZS</td>\n",
    "    <td class=\"tg-0pky\">0,938</td>\n",
    "    <td class=\"tg-dvpl\">0,896</td>\n",
    "    <td class=\"tg-dvpl\">0,945</td>\n",
    "    <td class=\"tg-dvpl\">0,729</td>\n",
    "    <td class=\"tg-fymr\">0,804</td>\n",
    "    <td class=\"tg-dvpl\">9,777</td>\n",
    "  </tr>\n",
    "</table>"
   ]
  },
  {
   "cell_type": "code",
   "execution_count": null,
   "metadata": {
    "collapsed": true
   },
   "outputs": [],
   "source": []
  }
 ],
 "metadata": {
  "kernelspec": {
   "display_name": "R",
   "language": "R",
   "name": "ir"
  },
  "language_info": {
   "codemirror_mode": "r",
   "file_extension": ".r",
   "mimetype": "text/x-r-source",
   "name": "R",
   "pygments_lexer": "r",
   "version": "3.4.1"
  }
 },
 "nbformat": 4,
 "nbformat_minor": 2
}
